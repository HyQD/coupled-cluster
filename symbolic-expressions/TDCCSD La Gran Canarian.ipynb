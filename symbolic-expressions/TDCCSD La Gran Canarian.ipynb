{
 "cells": [
  {
   "cell_type": "markdown",
   "metadata": {},
   "source": [
    "## The entire thing\n",
    "$$\n",
    "f^{a}_{b} {l_1}^{i}_{a} {t_1}^{b}_{i} + \\frac{f^{a}_{b} {l_2}^{ij}_{ac} {t_2}^{bc}_{ij}}{2} + f^{a}_{i} {l_1}^{i}_{a} - f^{i}_{a} {l_1}^{j}_{b} {t_1}^{a}_{j} {t_1}^{b}_{i} + f^{i}_{a} {l_1}^{j}_{b} {t_2}^{ab}_{ij} - \\frac{f^{i}_{a} {l_2}^{jk}_{bc} {t_1}^{a}_{j} {t_2}^{bc}_{ik}}{2} - \\frac{f^{i}_{a} {l_2}^{jk}_{bc} {t_1}^{b}_{i} {t_2}^{ac}_{jk}}{2} + f^{i}_{a} {t_1}^{a}_{i} - f^{j}_{i} {l_1}^{i}_{a} {t_1}^{a}_{j} - \\frac{f^{j}_{i} {l_2}^{ik}_{ab} {t_2}^{ab}_{jk}}{2} + {l_1}^{i}_{a} {t_1}^{a}_{j} {t_1}^{b}_{k} u^{jk}_{bi} - \\frac{{l_1}^{i}_{a} {t_1}^{a}_{j} {t_2}^{bc}_{ik} u^{jk}_{bc}}{2} - {l_1}^{i}_{a} {t_1}^{a}_{k} {t_1}^{b}_{j} {t_1}^{c}_{i} u^{jk}_{bc} + {l_1}^{i}_{a} {t_1}^{b}_{i} {t_1}^{c}_{j} u^{aj}_{bc} - \\frac{{l_1}^{i}_{a} {t_1}^{b}_{i} {t_2}^{ac}_{jk} u^{jk}_{bc}}{2} + {l_1}^{i}_{a} {t_1}^{b}_{j} {t_2}^{ac}_{ik} u^{jk}_{bc} - {l_1}^{i}_{a} {t_1}^{b}_{j} u^{aj}_{bi} + \\frac{{l_1}^{i}_{a} {t_2}^{ab}_{jk} u^{jk}_{bi}}{2} + \\frac{{l_1}^{i}_{a} {t_2}^{bc}_{ij} u^{aj}_{bc}}{2} - {l_2}^{ij}_{ab} {t_1}^{a}_{k} {t_1}^{c}_{i} {t_2}^{bd}_{jl} u^{kl}_{cd} + {l_2}^{ij}_{ab} {t_1}^{a}_{k} {t_1}^{c}_{i} u^{bk}_{cj} - \\frac{{l_2}^{ij}_{ab} {t_1}^{a}_{k} {t_1}^{c}_{j} {t_1}^{d}_{i} u^{bk}_{cd}}{2} - \\frac{{l_2}^{ij}_{ab} {t_1}^{a}_{k} {t_1}^{c}_{l} {t_2}^{bd}_{ij} u^{kl}_{cd}}{2} - {l_2}^{ij}_{ab} {t_1}^{a}_{k} {t_2}^{bc}_{il} u^{kl}_{cj} + \\frac{{l_2}^{ij}_{ab} {t_1}^{a}_{k} {t_2}^{cd}_{ij} u^{bk}_{cd}}{4} + \\frac{{l_2}^{ij}_{ab} {t_1}^{a}_{k} u^{bk}_{ij}}{2} - \\frac{{l_2}^{ij}_{ab} {t_1}^{a}_{l} {t_1}^{b}_{k} {t_1}^{c}_{i} u^{kl}_{cj}}{2} + \\frac{{l_2}^{ij}_{ab} {t_1}^{a}_{l} {t_1}^{b}_{k} {t_1}^{c}_{j} {t_1}^{d}_{i} u^{kl}_{cd}}{4} - \\frac{{l_2}^{ij}_{ab} {t_1}^{a}_{l} {t_1}^{b}_{k} {t_2}^{cd}_{ij} u^{kl}_{cd}}{8} - \\frac{{l_2}^{ij}_{ab} {t_1}^{a}_{l} {t_1}^{b}_{k} u^{kl}_{ij}}{4} - \\frac{{l_2}^{ij}_{ab} {t_1}^{c}_{i} {t_1}^{d}_{k} {t_2}^{ab}_{jl} u^{kl}_{cd}}{2} + \\frac{{l_2}^{ij}_{ab} {t_1}^{c}_{i} {t_2}^{ab}_{kl} u^{kl}_{cj}}{4} - {l_2}^{ij}_{ab} {t_1}^{c}_{i} {t_2}^{ad}_{jk} u^{bk}_{cd} + \\frac{{l_2}^{ij}_{ab} {t_1}^{c}_{i} u^{ab}_{cj}}{2} - \\frac{{l_2}^{ij}_{ab} {t_1}^{c}_{j} {t_1}^{d}_{i} {t_2}^{ab}_{kl} u^{kl}_{cd}}{8} - \\frac{{l_2}^{ij}_{ab} {t_1}^{c}_{j} {t_1}^{d}_{i} u^{ab}_{cd}}{4} - \\frac{{l_2}^{ij}_{ab} {t_1}^{c}_{k} {t_2}^{ab}_{il} u^{kl}_{cj}}{2} - \\frac{{l_2}^{ij}_{ab} {t_1}^{c}_{k} {t_2}^{ad}_{ij} u^{bk}_{cd}}{2} + \\frac{{l_2}^{ij}_{ab} {t_2}^{ab}_{il} {t_2}^{cd}_{jk} u^{kl}_{cd}}{8} + \\frac{{l_2}^{ij}_{ab} {t_2}^{ab}_{jk} {t_2}^{cd}_{il} u^{kl}_{cd}}{8} + \\frac{{l_2}^{ij}_{ab} {t_2}^{ab}_{kl} {t_2}^{cd}_{ij} u^{kl}_{cd}}{16} + \\frac{{l_2}^{ij}_{ab} {t_2}^{ab}_{kl} u^{kl}_{ij}}{8} - {l_2}^{ij}_{ab} {t_2}^{ac}_{ik} u^{bk}_{cj} - \\frac{{l_2}^{ij}_{ab} {t_2}^{ac}_{jk} {t_2}^{bd}_{il} u^{kl}_{cd}}{2} - \\frac{{l_2}^{ij}_{ab} {t_2}^{ac}_{kl} {t_2}^{bd}_{ij} u^{kl}_{cd}}{4} + \\frac{{l_2}^{ij}_{ab} {t_2}^{cd}_{ij} u^{ab}_{cd}}{8} + \\frac{{l_2}^{ij}_{ab} u^{ab}_{ij}}{4} - \\frac{{t_1}^{a}_{j} {t_1}^{b}_{i} u^{ij}_{ab}}{2} + \\frac{{t_2}^{ab}_{ij} u^{ij}_{ab}}{4}\n",
    "$$"
   ]
  },
  {
   "cell_type": "markdown",
   "metadata": {},
   "source": [
    "## Term by term\n",
    "\n",
    "Twelve (thirteen?) of these are already in the CCD implementation and are note necessary to compute again. They are in brackets.\n",
    "\n",
    "\\begin{align}\n",
    "f^{a}_{i} {l_1}^{i}_{a} \\\\\n",
    "f^{i}_{a} {t_1}^{a}_{i} \\\\\n",
    "\\left[\\frac{1}{4}{l_2}^{ij}_{ab} u^{ab}_{ij}\\right] \\\\\n",
    "\\left[\\frac{1}{4}{t_2}^{ab}_{ij} u^{ij}_{ab}\\right] \\\\\n",
    "f^{a}_{b} {l_1}^{i}_{a} {t_1}^{b}_{i} \\\\\n",
    "f^{i}_{a} {l_1}^{j}_{b} {t_2}^{ab}_{ij} \\\\\n",
    "\\left[\\frac{1}{2}f^{a}_{b} {l_2}^{ij}_{ac} {t_2}^{bc}_{ij}\\right] \\\\\n",
    "\\frac{1}{2}{l_1}^{i}_{a} {t_2}^{ab}_{jk} u^{jk}_{bi} \\\\\n",
    "\\frac{1}{2}{l_1}^{i}_{a} {t_2}^{bc}_{ij} u^{aj}_{bc} \\\\\n",
    "\\frac{1}{2}{l_2}^{ij}_{ab} {t_1}^{a}_{k} u^{bk}_{ij} \\\\\n",
    "\\frac{1}{2}{l_2}^{ij}_{ab} {t_1}^{c}_{i} u^{ab}_{cj} \\\\\n",
    "- f^{j}_{i} {l_1}^{i}_{a} {t_1}^{a}_{j} \\\\\n",
    "- {l_1}^{i}_{a} {t_1}^{b}_{j} u^{aj}_{bi} \\\\\n",
    "\\left[- {l_2}^{ij}_{ab} {t_2}^{ac}_{ik} u^{bk}_{cj}\\right] \\\\\n",
    "\\left[- \\frac{1}{2}f^{j}_{i} {l_2}^{ik}_{ab} {t_2}^{ab}_{jk} \\right]\\\\\n",
    "- \\frac{1}{2}{t_1}^{a}_{j} {t_1}^{b}_{i} u^{ij}_{ab} \\\\\n",
    "\\left[\\frac{1}{8}{l_2}^{ij}_{ab} {t_2}^{ab}_{kl} u^{kl}_{ij}\\right] \\\\\n",
    "\\left[\\frac{1}{8}{l_2}^{ij}_{ab} {t_2}^{cd}_{ij} u^{ab}_{cd}\\right] \\\\\n",
    "{l_1}^{i}_{a} {t_1}^{a}_{j} {t_1}^{b}_{k} u^{jk}_{bi} \\\\\n",
    "{l_1}^{i}_{a} {t_1}^{b}_{i} {t_1}^{c}_{j} u^{aj}_{bc} \\\\\n",
    "{l_1}^{i}_{a} {t_1}^{b}_{j} {t_2}^{ac}_{ik} u^{jk}_{bc} \\\\\n",
    "{l_2}^{ij}_{ab} {t_1}^{a}_{k} {t_1}^{c}_{i} u^{bk}_{cj} \\\\\n",
    "- f^{i}_{a} {l_1}^{j}_{b} {t_1}^{a}_{j} {t_1}^{b}_{i} \\\\\n",
    "- {l_2}^{ij}_{ab} {t_1}^{a}_{k} {t_2}^{bc}_{il} u^{kl}_{cj} \\\\\n",
    "- {l_2}^{ij}_{ab} {t_1}^{c}_{i} {t_2}^{ad}_{jk} u^{bk}_{cd} \\\\\n",
    "- \\frac{1}{2}f^{i}_{a} {l_2}^{jk}_{bc} {t_1}^{a}_{j} {t_2}^{bc}_{ik} \\\\\n",
    "- \\frac{1}{2}f^{i}_{a} {l_2}^{jk}_{bc} {t_1}^{b}_{i} {t_2}^{ac}_{jk} \\\\\n",
    "- \\frac{1}{2}{l_1}^{i}_{a} {t_1}^{a}_{j} {t_2}^{bc}_{ik} u^{jk}_{bc} \\\\\n",
    "- \\frac{1}{2}{l_1}^{i}_{a} {t_1}^{b}_{i} {t_2}^{ac}_{jk} u^{jk}_{bc} \\\\\n",
    "- \\frac{1}{2}{l_2}^{ij}_{ab} {t_1}^{c}_{k} {t_2}^{ab}_{il} u^{kl}_{cj} \\\\\n",
    "- \\frac{1}{2}{l_2}^{ij}_{ab} {t_1}^{c}_{k} {t_2}^{ad}_{ij} u^{bk}_{cd} \\\\\n",
    "\\left[- \\frac{1}{2}{l_2}^{ij}_{ab} {t_2}^{ac}_{jk} {t_2}^{bd}_{il} u^{kl}_{cd}\\right] \\\\\n",
    "- \\frac{1}{4}{l_2}^{ij}_{ab} {t_1}^{a}_{l} {t_1}^{b}_{k} u^{kl}_{ij} \\\\\n",
    "- \\frac{1}{4}{l_2}^{ij}_{ab} {t_1}^{c}_{j} {t_1}^{d}_{i} u^{ab}_{cd} \\\\\n",
    "\\left[- \\frac{1}{4}{l_2}^{ij}_{ab} {t_2}^{ac}_{kl} {t_2}^{bd}_{ij} u^{kl}_{cd}\\right] \\\\\n",
    "\\frac{1}{4}{l_2}^{ij}_{ab} {t_1}^{a}_{k} {t_2}^{cd}_{ij} u^{bk}_{cd} \\\\\n",
    "\\frac{1}{4}{l_2}^{ij}_{ab} {t_1}^{c}_{i} {t_2}^{ab}_{kl} u^{kl}_{cj} \\\\\n",
    "\\left[\\frac{1}{8}{l_2}^{ij}_{ab} {t_2}^{ab}_{il} {t_2}^{cd}_{jk} u^{kl}_{cd}\\right] \\\\\n",
    "\\left[\\frac{1}{8}{l_2}^{ij}_{ab} {t_2}^{ab}_{jk} {t_2}^{cd}_{il} u^{kl}_{cd}\\right] \\\\\n",
    "\\left[\\frac{1}{16}{l_2}^{ij}_{ab} {t_2}^{ab}_{kl} {t_2}^{cd}_{ij} u^{kl}_{cd}\\right] \\\\\n",
    "- {l_1}^{i}_{a} {t_1}^{a}_{k} {t_1}^{b}_{j} {t_1}^{c}_{i} u^{jk}_{bc} \\\\\n",
    "- {l_2}^{ij}_{ab} {t_1}^{a}_{k} {t_1}^{c}_{i} {t_2}^{bd}_{jl} u^{kl}_{cd} \\\\\n",
    "- \\frac{1}{2}{l_2}^{ij}_{ab} {t_1}^{a}_{k} {t_1}^{c}_{j} {t_1}^{d}_{i} u^{bk}_{cd} \\\\\n",
    "- \\frac{1}{2}{l_2}^{ij}_{ab} {t_1}^{a}_{k} {t_1}^{c}_{l} {t_2}^{bd}_{ij} u^{kl}_{cd} \\\\\n",
    "- \\frac{1}{2}{l_2}^{ij}_{ab} {t_1}^{a}_{l} {t_1}^{b}_{k} {t_1}^{c}_{i} u^{kl}_{cj} \\\\\n",
    "- \\frac{1}{2}{l_2}^{ij}_{ab} {t_1}^{c}_{i} {t_1}^{d}_{k} {t_2}^{ab}_{jl} u^{kl}_{cd} \\\\\n",
    "- \\frac{1}{8}{l_2}^{ij}_{ab} {t_1}^{a}_{l} {t_1}^{b}_{k} {t_2}^{cd}_{ij} u^{kl}_{cd} \\\\\n",
    "- \\frac{1}{8}{l_2}^{ij}_{ab} {t_1}^{c}_{j} {t_1}^{d}_{i} {t_2}^{ab}_{kl} u^{kl}_{cd} \\\\\n",
    "\\frac{1}{4}{l_2}^{ij}_{ab} {t_1}^{a}_{l} {t_1}^{b}_{k} {t_1}^{c}_{j} {t_1}^{d}_{i} u^{kl}_{cd} \n",
    "\\end{align}"
   ]
  }
 ],
 "metadata": {
  "kernelspec": {
   "display_name": "Python 3",
   "language": "python",
   "name": "python3"
  },
  "language_info": {
   "codemirror_mode": {
    "name": "ipython",
    "version": 3
   },
   "file_extension": ".py",
   "mimetype": "text/x-python",
   "name": "python",
   "nbconvert_exporter": "python",
   "pygments_lexer": "ipython3",
   "version": "3.7.2"
  }
 },
 "nbformat": 4,
 "nbformat_minor": 2
}
