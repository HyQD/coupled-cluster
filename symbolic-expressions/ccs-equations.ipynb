{
 "cells": [
  {
   "cell_type": "markdown",
   "metadata": {},
   "source": [
    "# CCS equations\n",
    "\n",
    "This notebook includes the CCS Lagrangian, the CCS $\\tau$ and $\\lambda$ equations, and the CCS one-body density matrix."
   ]
  },
  {
   "cell_type": "code",
   "execution_count": 1,
   "metadata": {},
   "outputs": [],
   "source": [
    "from IPython.display import display, Math"
   ]
  },
  {
   "cell_type": "code",
   "execution_count": 2,
   "metadata": {},
   "outputs": [],
   "source": [
    "import re\n",
    "from sympy import latex\n",
    "\n",
    "from helper_functions import eval_equation\n",
    "from cluster_operators import get_t_1_operator, get_l_1_operator\n",
    "from generate_cc_lagrangian import generate_lagrangian\n",
    "from generate_cc_amplitudes import generate_ccs_amplitude_equations\n",
    "from one_body_density_matrix import get_ccs_one_body_density_matrix"
   ]
  },
  {
   "cell_type": "markdown",
   "metadata": {},
   "source": [
    "## CCS Lagrangian"
   ]
  },
  {
   "cell_type": "code",
   "execution_count": 3,
   "metadata": {},
   "outputs": [],
   "source": [
    "lagrangian = eval_equation(generate_lagrangian([get_t_1_operator], [get_l_1_operator]))"
   ]
  },
  {
   "cell_type": "code",
   "execution_count": 4,
   "metadata": {},
   "outputs": [
    {
     "name": "stdout",
     "output_type": "stream",
     "text": [
      "f^{a}_{b} l_1^{i}_{a} t_1^{b}_{i} + f^{a}_{i} l_1^{i}_{a} - f^{i}_{a} l_1^{j}_{b} t_1^{a}_{j} t_1^{b}_{i} + f^{i}_{a} t_1^{a}_{i} - f^{j}_{i} l_1^{i}_{a} t_1^{a}_{j} + l_1^{i}_{a} t_1^{a}_{j} t_1^{b}_{k} u^{jk}_{bi} - l_1^{i}_{a} t_1^{a}_{k} t_1^{b}_{j} t_1^{c}_{i} u^{jk}_{bc} + l_1^{i}_{a} t_1^{b}_{i} t_1^{c}_{j} u^{aj}_{bc} - l_1^{i}_{a} t_1^{b}_{j} u^{aj}_{bi} - \\frac{t_1^{a}_{j} t_1^{b}_{i} u^{ij}_{ab}}{2}\n"
     ]
    }
   ],
   "source": [
    "print(latex(lagrangian))"
   ]
  },
  {
   "cell_type": "code",
   "execution_count": 5,
   "metadata": {},
   "outputs": [
    {
     "data": {
      "text/latex": [
       "$\\displaystyle L(\\tau_1, \\lambda_1) = f^{a}_{b} \\lambda^{i}_{a} \\tau^{b}_{i} + f^{a}_{i} \\lambda^{i}_{a} - f^{i}_{a} \\lambda^{j}_{b} \\tau^{a}_{j} \\tau^{b}_{i} + f^{i}_{a} \\tau^{a}_{i} - f^{j}_{i} \\lambda^{i}_{a} \\tau^{a}_{j} + \\lambda^{i}_{a} \\tau^{a}_{j} \\tau^{b}_{k} u^{jk}_{bi} - \\lambda^{i}_{a} \\tau^{a}_{k} \\tau^{b}_{j} \\tau^{c}_{i} u^{jk}_{bc} + \\lambda^{i}_{a} \\tau^{b}_{i} \\tau^{c}_{j} u^{aj}_{bc} - \\lambda^{i}_{a} \\tau^{b}_{j} u^{aj}_{bi} - \\frac{\\tau^{a}_{j} \\tau^{b}_{i} u^{ij}_{ab}}{2}$"
      ],
      "text/plain": [
       "<IPython.core.display.Math object>"
      ]
     },
     "metadata": {},
     "output_type": "display_data"
    }
   ],
   "source": [
    "latex_lagrangian = latex(lagrangian)\n",
    "\n",
    "latex_lagrangian = re.sub(r\"l_1\", r\"\\\\lambda\", rf\"{latex_lagrangian}\")\n",
    "latex_lagrangian = re.sub(r\"t_1\", r\"\\\\tau\", rf\"{latex_lagrangian}\")\n",
    "\n",
    "latex_lagrangian = \"L(\\\\tau_1, \\\\lambda_1) = \" + latex_lagrangian\n",
    "\n",
    "display(Math(latex_lagrangian))"
   ]
  },
  {
   "cell_type": "markdown",
   "metadata": {},
   "source": [
    "## CCS $\\tau_1$- and $\\lambda_1$-amplitudes"
   ]
  },
  {
   "cell_type": "code",
   "execution_count": 6,
   "metadata": {},
   "outputs": [],
   "source": [
    "[tau_1], [lambda_1] = generate_ccs_amplitude_equations()"
   ]
  },
  {
   "cell_type": "code",
   "execution_count": 7,
   "metadata": {},
   "outputs": [
    {
     "data": {
      "text/latex": [
       "$\\displaystyle (\\tau_1) \\qquad 0 = - f^{i}_{a} \\tau^{a}_{I} \\tau^{A}_{i} - f^{i}_{I} \\tau^{A}_{i} + f^{A}_{a} \\tau^{a}_{I} + f^{A}_{I} - \\tau^{a}_{i} \\tau^{b}_{I} \\tau^{A}_{j} u^{ij}_{ab} - \\tau^{a}_{i} \\tau^{b}_{I} u^{Ai}_{ab} + \\tau^{a}_{i} \\tau^{A}_{j} u^{ij}_{Ia} + \\tau^{a}_{i} u^{Ai}_{Ia}$"
      ],
      "text/plain": [
       "<IPython.core.display.Math object>"
      ]
     },
     "metadata": {},
     "output_type": "display_data"
    }
   ],
   "source": [
    "latex_tau_1 = latex(tau_1)\n",
    "\n",
    "latex_tau_1 = re.sub(r\"l_1\", r\"\\\\lambda\", rf\"{latex_tau_1}\")\n",
    "latex_tau_1 = re.sub(r\"t_1\", r\"\\\\tau\", rf\"{latex_tau_1}\")\n",
    "\n",
    "latex_tau_1 = \"(\\\\tau_1) \\qquad 0 = \" + latex_tau_1\n",
    "\n",
    "display(Math(latex_tau_1))"
   ]
  },
  {
   "cell_type": "code",
   "execution_count": 8,
   "metadata": {},
   "outputs": [
    {
     "data": {
      "text/latex": [
       "$\\displaystyle (\\lambda_1) \\qquad 0 = f^{a}_{A} \\lambda^{I}_{a} - f^{i}_{A} \\lambda^{I}_{a} \\tau^{a}_{i} - f^{I}_{a} \\lambda^{i}_{A} \\tau^{a}_{i} - f^{I}_{i} \\lambda^{i}_{A} + f^{I}_{A} - \\lambda^{i}_{a} \\tau^{a}_{j} \\tau^{b}_{i} u^{Ij}_{Ab} - \\lambda^{i}_{a} \\tau^{a}_{j} u^{Ij}_{Ai} + \\lambda^{i}_{a} \\tau^{b}_{i} u^{Ia}_{Ab} + \\lambda^{i}_{a} u^{Ia}_{Ai} - \\lambda^{i}_{A} \\tau^{a}_{i} \\tau^{b}_{j} u^{Ij}_{ab} + \\lambda^{i}_{A} \\tau^{a}_{j} u^{Ij}_{ai} - \\lambda^{I}_{a} \\tau^{a}_{i} \\tau^{b}_{j} u^{ij}_{Ab} + \\lambda^{I}_{a} \\tau^{b}_{i} u^{ai}_{Ab} + \\tau^{a}_{i} u^{Ii}_{Aa}$"
      ],
      "text/plain": [
       "<IPython.core.display.Math object>"
      ]
     },
     "metadata": {},
     "output_type": "display_data"
    }
   ],
   "source": [
    "latex_lambda_1 = latex(lambda_1)\n",
    "\n",
    "latex_lambda_1 = re.sub(r\"l_1\", r\"\\\\lambda\", rf\"{latex_lambda_1}\")\n",
    "latex_lambda_1 = re.sub(r\"t_1\", r\"\\\\tau\", rf\"{latex_lambda_1}\")\n",
    "\n",
    "latex_lambda_1 = \"(\\\\lambda_1) \\qquad 0 = \" + latex_lambda_1\n",
    "\n",
    "display(Math(latex_lambda_1))"
   ]
  },
  {
   "cell_type": "markdown",
   "metadata": {},
   "source": [
    "## CCS one-body density matrix"
   ]
  },
  {
   "cell_type": "code",
   "execution_count": 9,
   "metadata": {},
   "outputs": [],
   "source": [
    "rho_qp = get_ccs_one_body_density_matrix()"
   ]
  },
  {
   "cell_type": "code",
   "execution_count": 10,
   "metadata": {},
   "outputs": [
    {
     "data": {
      "text/latex": [
       "$\\displaystyle (\\lambda_1) \\qquad 0 = \\delta_{a p} \\delta_{b q} \\lambda^{i}_{a} \\tau^{b}_{i} + \\delta_{a q} \\delta_{i p} \\lambda^{i}_{a} + \\delta_{a q} \\delta_{i p} \\tau^{a}_{i} - \\delta_{i p} \\delta_{j q} \\lambda^{i}_{a} \\tau^{a}_{j} + \\delta_{i p}$"
      ],
      "text/plain": [
       "<IPython.core.display.Math object>"
      ]
     },
     "metadata": {},
     "output_type": "display_data"
    }
   ],
   "source": [
    "latex_rho = latex(rho_qp)\n",
    "\n",
    "latex_rho = re.sub(r\"l_1\", r\"\\\\lambda\", rf\"{latex_rho}\")\n",
    "latex_rho = re.sub(r\"t_1\", r\"\\\\tau\", rf\"{latex_rho}\")\n",
    "\n",
    "latex_rho = \"(\\\\lambda_1) \\qquad 0 = \" + latex_rho\n",
    "\n",
    "display(Math(latex_rho))"
   ]
  }
 ],
 "metadata": {
  "kernelspec": {
   "display_name": "Python 3",
   "language": "python",
   "name": "python3"
  },
  "language_info": {
   "codemirror_mode": {
    "name": "ipython",
    "version": 3
   },
   "file_extension": ".py",
   "mimetype": "text/x-python",
   "name": "python",
   "nbconvert_exporter": "python",
   "pygments_lexer": "ipython3",
   "version": "3.7.4"
  }
 },
 "nbformat": 4,
 "nbformat_minor": 2
}
