{
 "cells": [
  {
   "cell_type": "markdown",
   "metadata": {},
   "source": [
    "\\begin{align}\n",
    "    \\rho^{b}_{a} &= {l_1}^{i}_{a} {t_1}^{b}_{i} - \\frac{1}{2}{l_2}^{ij}_{ab} {t_2}^{bc}_{ij} \\\\\n",
    "    \\rho^{i}_{a} &= {l_1}^{i}_{a} \\\\\n",
    "    \\rho^{a}_{i} &= - {l_1}^{i}_{a} {t_1}^{a}_{j} {t_1}^{b}_{i} + {l_1}^{i}_{a} {t_2}^{ab}_{ij} + \\frac{1}{2}{l_2}^{ij}_{ab} {t_1}^{a}_{k} {t_2}^{bc}_{ij} + \\frac{1}{2}{l_2}^{ij}_{ab} {t_1}^{c}_{i} {t_2}^{ab}_{jk} + {t_1}^{a}_{i} \\\\\n",
    "    \\rho^{j}_{i} &= \\delta_{i j} - {l_1}^{i}_{a} {t_1}^{a}_{j} + \\frac{1}{2}{l_2}^{ij}_{ab} {t_2}^{ab}_{jk}\n",
    "\\end{align}"
   ]
  }
 ],
 "metadata": {
  "kernelspec": {
   "display_name": "Python 3",
   "language": "python",
   "name": "python3"
  },
  "language_info": {
   "codemirror_mode": {
    "name": "ipython",
    "version": 3
   },
   "file_extension": ".py",
   "mimetype": "text/x-python",
   "name": "python",
   "nbconvert_exporter": "python",
   "pygments_lexer": "ipython3",
   "version": "3.7.1"
  }
 },
 "nbformat": 4,
 "nbformat_minor": 2
}
