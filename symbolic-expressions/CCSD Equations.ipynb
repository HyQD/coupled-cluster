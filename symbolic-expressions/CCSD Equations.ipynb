{
 "cells": [
  {
   "cell_type": "markdown",
   "metadata": {},
   "source": [
    "## Generated from sympy script"
   ]
  },
  {
   "cell_type": "markdown",
   "metadata": {},
   "source": [
    "### $T_1$ equations"
   ]
  },
  {
   "cell_type": "markdown",
   "metadata": {},
   "source": [
    "\\begin{align}\n",
    "    f^{A}_{a} {t_1}^{a}_{I} \\\\\n",
    "    f^{i}_{a} {t_2}^{Aa}_{Ii} \\\\\n",
    "    {t_1}^{a}_{i} u^{Ai}_{Ia} \\\\\n",
    "    \\frac{1}{2}{t_2}^{ab}_{Ii} u^{Ai}_{ab} \\\\ \n",
    "    - f^{i}_{I} {t_1}^{A}_{i} \\\\\n",
    "    - \\frac{1}{2}{t_2}^{Aa}_{ij} u^{ij}_{Ia} \\\\\n",
    "    {t_1}^{a}_{i} {t_1}^{A}_{j} u^{ij}_{Ia} \\\\\n",
    "    {t_1}^{a}_{i} {t_2}^{Ab}_{Ij} u^{ij}_{ab} \\\\\n",
    "    - f^{i}_{a} {t_1}^{a}_{I} {t_1}^{A}_{i} \\\\\n",
    "    - {t_1}^{a}_{i} {t_1}^{b}_{I} u^{Ai}_{ab} \\\\\n",
    "    - \\frac{1}{2}{t_1}^{A}_{i} {t_2}^{ab}_{Ij} u^{ij}_{ab} \\\\\n",
    "    - \\frac{1}{2}{t_1}^{a}_{I} {t_2}^{Ab}_{ij} u^{ij}_{ab} \\\\\n",
    "    - {t_1}^{a}_{i} {t_1}^{b}_{I} {t_1}^{A}_{j} u^{ij}_{ab} \\\\\n",
    "    f^{A}_{I}\\\\\n",
    "\\end{align}"
   ]
  },
  {
   "cell_type": "markdown",
   "metadata": {},
   "source": [
    "### $T_2$ equations"
   ]
  },
  {
   "cell_type": "markdown",
   "metadata": {},
   "source": [
    "\\begin{align}\n",
    "    \\frac{1}{2}{t_2}^{AB}_{ij} u^{ij}_{IJ} \\\\\n",
    "    \\frac{1}{2}{t_2}^{ab}_{IJ} u^{AB}_{ab} \\\\\n",
    "    f^{i}_{I} {t_2}^{AB}_{Ji} P(IJ) \\\\\n",
    "    {t_1}^{A}_{i} {t_1}^{B}_{j} u^{ij}_{IJ} \\\\\n",
    "    {t_1}^{A}_{i} u^{Bi}_{IJ} P(AB) \\\\\n",
    "    {t_1}^{a}_{I} {t_1}^{b}_{J} u^{AB}_{ab} \\\\\n",
    "    - f^{A}_{a} {t_2}^{Ba}_{IJ} P(AB) \\\\\n",
    "    - {t_1}^{a}_{I} u^{AB}_{Ja} P(IJ) \\\\\n",
    "    \\frac{1}{4}{t_2}^{ab}_{IJ} {t_2}^{AB}_{ij} u^{ij}_{ab} \\\\\n",
    "    f^{i}_{a} {t_1}^{A}_{i} {t_2}^{Ba}_{IJ} P(AB) \\\\\n",
    "    f^{i}_{a} {t_1}^{a}_{I} {t_2}^{AB}_{Ji} P(IJ) \\\\\n",
    "    {t_1}^{a}_{i} {t_2}^{AB}_{Ij} u^{ij}_{Ja} P(IJ) \\\\\n",
    "    {t_2}^{Aa}_{Ii} {t_2}^{Bb}_{Jj} u^{ij}_{ab} P(AB) \\\\\n",
    "    {t_2}^{Aa}_{Ii} u^{Bi}_{Ja} P(AB) P(IJ) \\\\\n",
    "    \\frac{1}{2}{t_1}^{A}_{i} {t_1}^{B}_{j} {t_2}^{ab}_{IJ} u^{ij}_{ab} \\\\\n",
    "    \\frac{1}{2}{t_1}^{A}_{i} {t_2}^{ab}_{IJ} u^{Bi}_{ab} P(AB) \\\\\n",
    "    \\frac{1}{2}{t_1}^{a}_{I} {t_1}^{b}_{J} {t_2}^{AB}_{ij} u^{ij}_{ab} \\\\\n",
    "    \\frac{1}{2}{t_2}^{ab}_{Ji} {t_2}^{AB}_{Ij} u^{ij}_{ab} P(IJ) \\\\\n",
    "    - {t_1}^{a}_{i} {t_2}^{Ab}_{IJ} u^{Bi}_{ab} P(AB) \\\\\n",
    "    - \\frac{1}{2}{t_1}^{a}_{I} {t_2}^{AB}_{ij} u^{ij}_{Ja} P(IJ) \\\\\n",
    "    - \\frac{1}{2}{t_2}^{Aa}_{ij} {t_2}^{Bb}_{IJ} u^{ij}_{ab} P(AB) \\\\\n",
    "    {t_1}^{a}_{I} {t_1}^{b}_{J} {t_1}^{A}_{i} {t_1}^{B}_{j} u^{ij}_{ab} \\\\\n",
    "    {t_1}^{a}_{I} {t_1}^{b}_{J} {t_1}^{A}_{i} u^{Bi}_{ab} P(AB) \\\\\n",
    "    {t_1}^{A}_{i} {t_2}^{Ba}_{Ij} u^{ij}_{Ja} P(AB) P(IJ) \\\\\n",
    "    {t_1}^{a}_{i} {t_1}^{A}_{j} {t_2}^{Bb}_{IJ} u^{ij}_{ab} P(AB) \\\\\n",
    "    {t_1}^{a}_{i} {t_1}^{b}_{I} {t_2}^{AB}_{Jj} u^{ij}_{ab} P(IJ) \\\\\n",
    "    - {t_1}^{a}_{I} {t_1}^{A}_{i} {t_1}^{B}_{j} u^{ij}_{Ja} P(IJ) \\\\\n",
    "    - {t_1}^{a}_{I} {t_1}^{A}_{i} u^{Bi}_{Ja} P(AB) P(IJ) \\\\\n",
    "    - {t_1}^{a}_{I} {t_2}^{Ab}_{Ji} u^{Bi}_{ab} P(AB) P(IJ) \\\\\n",
    "    - {t_1}^{a}_{I} {t_1}^{A}_{i} {t_2}^{Bb}_{Jj} u^{ij}_{ab} P(AB) P(IJ) \\\\\n",
    "    u^{AB}_{IJ}\n",
    "\\end{align}"
   ]
  },
  {
   "cell_type": "markdown",
   "metadata": {},
   "source": [
    "### $L_1$ equations"
   ]
  },
  {
   "cell_type": "markdown",
   "metadata": {},
   "source": [
    "\\begin{align}\n",
    "    \\text{s1_l} &\\quad f^{I}_{A} \\\\\n",
    "    \\text{s2a_l} &\\quad f^{a}_{A} {l_1}^{I}_{a} \\\\\n",
    "    \\text{s2b_l} &\\quad - f^{I}_{i} {l_1}^{i}_{A} \\\\\n",
    "    \\text{s3a_l} &\\quad {l_1}^{i}_{a} u^{Ia}_{Ai} \\\\\n",
    "    \\text{s3b_l} &\\quad {t_1}^{a}_{i} u^{Ii}_{Aa} \\\\\n",
    "    \\text{s4a_l} &\\quad \\frac{1}{2}{l_2}^{Ii}_{ab} u^{ab}_{Ai} \\\\\n",
    "    \\text{s4b_l} &\\quad - \\frac{1}{2}{l_2}^{ij}_{Aa} u^{Ia}_{ij} \\\\\n",
    "    \\text{s5a_l} &\\quad {l_1}^{I}_{a} {t_1}^{b}_{i} u^{ai}_{Ab} \\\\\n",
    "    \\text{s5b_l} &\\quad {l_1}^{i}_{A} {t_1}^{a}_{j} u^{Ij}_{ai} \\\\\n",
    "    \\text{s5c_l} &\\quad {l_1}^{i}_{a} {t_1}^{b}_{i} u^{Ia}_{Ab} \\\\\n",
    "    \\text{s5d_l} &\\quad - {l_1}^{i}_{a} {t_1}^{a}_{j} u^{Ij}_{Ai} \\\\\n",
    "    \\text{s6a_l} &\\quad {l_2}^{Ii}_{ab} {t_1}^{a}_{j} u^{bj}_{Ai} \\\\\n",
    "    \\text{s6b_l} &\\quad \\frac{1}{2}{l_2}^{Ii}_{ab} {t_1}^{c}_{i} u^{ab}_{Ac} \\\\\n",
    "    \\text{s6c_l} &\\quad \\frac{1}{2}{l_2}^{ij}_{Aa} {t_1}^{a}_{k} u^{Ik}_{ij} \\\\\n",
    "    \\text{s6d_l} &\\quad \\frac{1}{2}{l_2}^{ij}_{ab} {t_2}^{ac}_{ij} u^{Ib}_{Ac} \\\\\n",
    "    \\text{s7_l} &\\quad {l_1}^{i}_{a} {t_2}^{ab}_{ij} u^{Ij}_{Ab} \\\\\n",
    "    \\text{s8a_l} &\\quad - f^{I}_{a} {l_1}^{i}_{A} {t_1}^{a}_{i} \\\\\n",
    "    \\text{s8b_l} &\\quad - f^{i}_{A} {l_1}^{I}_{a} {t_1}^{a}_{i} \\\\ \n",
    "    \\text{s9a_l} &\\quad - {l_2}^{Ii}_{ab} {t_2}^{ac}_{ij} u^{bj}_{Ac} \\\\\n",
    "    \\text{s9b_l} &\\quad - {l_2}^{ij}_{Aa} {t_1}^{b}_{i} u^{Ia}_{bj} \\\\\n",
    "    \\text{s9c_l} &\\quad - {l_2}^{ij}_{Aa} {t_2}^{ab}_{ik} u^{Ik}_{bj} \\\\\n",
    "    \\text{s10a_l} &\\quad - \\frac{1}{2}f^{I}_{a} {l_2}^{ij}_{Ab} {t_2}^{ab}_{ij} \\\\\n",
    "    \\text{s10b_l} &\\quad - \\frac{1}{2}f^{i}_{A} {l_2}^{Ij}_{ab} {t_2}^{ab}_{ij} \\\\\n",
    "    \\text{s10c_l} &\\quad - \\frac{1}{2}{l_1}^{I}_{a} {t_2}^{ab}_{ij} u^{ij}_{Ab} \\\\\n",
    "    \\text{s10d_l} &\\quad - \\frac{1}{2}{l_1}^{i}_{A} {t_2}^{ab}_{ij} u^{Ij}_{ab} \\\\\n",
    "    \\text{s10e_l} &\\quad - \\frac{1}{2}{l_2}^{ij}_{ab} {t_2}^{ab}_{ik} u^{Ik}_{Aj} \\\\\n",
    "    \\text{s10f_l} &\\quad - \\frac{1}{4}{l_2}^{ij}_{Aa} {t_2}^{bc}_{ij} u^{Ia}_{bc} \\\\\n",
    "    \\text{s10g_l} &\\quad \\frac{1}{4}{l_2}^{Ii}_{ab} {t_2}^{ab}_{jk} u^{jk}_{Ai} \\\\\n",
    "    \\text{s11a_l} &\\quad {l_2}^{Ii}_{ab} {t_1}^{a}_{j} {t_1}^{c}_{i} u^{bj}_{Ac} \\\\\n",
    "    \\text{s11b_l} &\\quad {l_2}^{ij}_{Aa} {t_1}^{a}_{k} {t_1}^{b}_{i} u^{Ik}_{bj} \\\\\n",
    "    \\text{s11c_l} &\\quad \\frac{1}{2}{l_2}^{ij}_{Aa} {t_1}^{b}_{j} {t_1}^{c}_{i} u^{Ia}_{bc} \\\\\n",
    "    \\text{s11d_l} &\\quad \\frac{1}{2}{l_2}^{ij}_{ab} {t_1}^{a}_{k} {t_2}^{bc}_{ij} u^{Ik}_{Ac} \\\\\n",
    "    \\text{s11e_l} &\\quad \\frac{1}{2}{l_2}^{ij}_{ab} {t_1}^{c}_{i} {t_2}^{ab}_{jk} u^{Ik}_{Ac} \\\\\n",
    "    \\text{s11f_l} &\\quad - {l_1}^{I}_{a} {t_1}^{a}_{i} {t_1}^{b}_{j} u^{ij}_{Ab} \\\\\n",
    "    \\text{s11g_l} &\\quad - {l_1}^{i}_{A} {t_1}^{a}_{i} {t_1}^{b}_{j} u^{Ij}_{ab} \\\\\n",
    "    \\text{s11h_l} &\\quad - {l_1}^{i}_{a} {t_1}^{a}_{j} {t_1}^{b}_{i} u^{Ij}_{Ab} \\\\\n",
    "    \\text{s11i_l} &\\quad - {l_2}^{Ii}_{ab} {t_1}^{a}_{j} {t_2}^{bc}_{ik} u^{jk}_{Ac} \\\\\n",
    "    \\text{s11j_l} &\\quad - {l_2}^{ij}_{Aa} {t_1}^{b}_{i} {t_2}^{ac}_{jk} u^{Ik}_{bc} \\\\\n",
    "    \\text{s11k_l} &\\quad - \\frac{1}{2}{l_2}^{Ii}_{ab} {t_1}^{a}_{k} {t_1}^{b}_{j} u^{jk}_{Ai} \\\\\n",
    "    \\text{s11l_l} &\\quad - \\frac{1}{2}{l_2}^{Ii}_{ab} {t_1}^{c}_{j} {t_2}^{ab}_{ik} u^{jk}_{Ac} \\\\\n",
    "    \\text{s11m_l} &\\quad - \\frac{1}{2}{l_2}^{ij}_{Aa} {t_1}^{b}_{k} {t_2}^{ac}_{ij} u^{Ik}_{bc} \\\\\n",
    "    \\text{s11n_l} &\\quad \\frac{1}{4}{l_2}^{Ii}_{ab} {t_1}^{c}_{i} {t_2}^{ab}_{jk} u^{jk}_{Ac} \\\\\n",
    "    \\text{s11o_l} &\\quad \\frac{1}{4}{l_2}^{ij}_{Aa} {t_1}^{a}_{k} {t_2}^{bc}_{ij} u^{Ik}_{bc} \\\\\n",
    "    \\text{s12a_l} &\\quad - \\frac{1}{2}{l_2}^{Ii}_{ab} {t_1}^{a}_{k} {t_1}^{b}_{j} {t_1}^{c}_{i} u^{jk}_{Ac} \\\\\n",
    "    \\text{s12b_l} &\\quad - \\frac{1}{2}{l_2}^{ij}_{Aa} {t_1}^{a}_{k} {t_1}^{b}_{j} {t_1}^{c}_{i} u^{Ik}_{bc}  \n",
    "\\end{align}"
   ]
  },
  {
   "cell_type": "markdown",
   "metadata": {},
   "source": [
    "### $L_2$ equations"
   ]
  },
  {
   "cell_type": "markdown",
   "metadata": {},
   "source": [
    "\\begin{align}\n",
    "   \\text{d1_l} &\\quad u^{IJ}_{AB} \\\\\n",
    "    \\text{d2a_l} &\\quad \\frac{1}{2}{l_2}^{IJ}_{ab} u^{ab}_{AB} \\\\\n",
    "    \\text{d2b_l} &\\quad \\frac{1}{2}{l_2}^{ij}_{AB} u^{IJ}_{ij} \\\\\n",
    "    \\text{d3a_l} &\\quad f^{I}_{i} {l_2}^{Ji}_{AB} P(IJ) \\\\\n",
    "    \\text{d3b_l} &\\quad {l_1}^{i}_{A} u^{IJ}_{Bi} P(AB) \\\\\n",
    "    \\text{d4a_l} &\\quad {l_2}^{IJ}_{ab} {t_1}^{a}_{i} u^{bi}_{AB} \\\\\n",
    "    \\text{d4b_l} &\\quad {l_2}^{ij}_{AB} {t_1}^{a}_{i} u^{IJ}_{aj} \\\\\n",
    "    \\text{d5a_l} &\\quad - f^{a}_{A} {l_2}^{IJ}_{Ba} P(AB) \\\\\n",
    "    \\text{d5b_l} &\\quad - {l_1}^{I}_{a} u^{Ja}_{AB} P(IJ) \\\\\n",
    "    \\text{d6a_l} &\\quad \\frac{1}{4}{l_2}^{IJ}_{ab} {t_2}^{ab}_{ij} u^{ij}_{AB} \\\\\n",
    "    \\text{d6b_l} &\\quad \\frac{1}{4}{l_2}^{ij}_{AB} {t_2}^{ab}_{ij} u^{IJ}_{ab} \\\\\n",
    "    \\text{d7a_l} &\\quad f^{I}_{A} {l_1}^{J}_{B} P(AB) P(IJ) \\\\\n",
    "    \\text{d7b_l} &\\quad f^{I}_{a} {l_2}^{Ji}_{AB} {t_1}^{a}_{i} P(IJ) \\\\\n",
    "    \\text{d7c_l} &\\quad f^{i}_{A} {l_2}^{IJ}_{Ba} {t_1}^{a}_{i} P(AB) \\\\\n",
    "    \\text{d8a_l} &\\quad {l_1}^{I}_{a} {t_1}^{a}_{i} u^{Ji}_{AB} P(IJ) \\\\ \n",
    "    \\text{d8b_l} &\\quad {l_1}^{i}_{A} {t_1}^{a}_{i} u^{IJ}_{Ba} P(AB) \\\\\n",
    "    \\text{d8c_l} &\\quad {l_2}^{IJ}_{Aa} {t_1}^{b}_{i} u^{ai}_{Bb} P(AB) \\\\\n",
    "    \\text{d8d_l} &\\quad {l_2}^{Ii}_{AB} {t_1}^{a}_{j} u^{Jj}_{ai} P(IJ) \\\\\n",
    "    \\text{d8e_l} &\\quad {l_2}^{Ii}_{Aa} u^{Ja}_{Bi} P(AB) P(IJ) \\\\\n",
    "    \\text{d9a_l} &\\quad - \\frac{1}{2}{l_2}^{IJ}_{Aa} {t_2}^{ab}_{ij} u^{ij}_{Bb} P(AB) \\\\\n",
    "    \\text{d9b_l} &\\quad - \\frac{1}{2}{l_2}^{Ii}_{AB} {t_2}^{ab}_{ij} u^{Jj}_{ab} P(IJ) \\\\\n",
    "    \\text{d9c_l} &\\quad - \\frac{1}{2}{l_2}^{Ii}_{ab} {t_2}^{ab}_{ij} u^{Jj}_{AB} P(IJ) \\\\\n",
    "    \\text{d9d_l} &\\quad - \\frac{1}{2}{l_2}^{ij}_{Aa} {t_2}^{ab}_{ij} u^{IJ}_{Bb} P(AB) \\\\\n",
    "    \\text{d10a_l} &\\quad - \\frac{1}{2}{l_2}^{ij}_{AB} {t_1}^{a}_{j} {t_1}^{b}_{i} u^{IJ}_{ab} \\\\\n",
    "    \\text{d10b_l} &\\quad - \\frac{1}{2}{l_2}^{IJ}_{ab} {t_1}^{a}_{j} {t_1}^{b}_{i} u^{ij}_{AB} \\\\\n",
    "    \\text{d11a_l} &\\quad {l_1}^{I}_{A} {t_1}^{a}_{i} u^{Ji}_{Ba} P(AB) P(IJ) \\\\\n",
    "    \\text{d11b_l} &\\quad {l_2}^{Ii}_{Aa} {t_1}^{b}_{i} u^{Ja}_{Bb} P(AB) P(IJ) \\\\\n",
    "    \\text{d11c_l} &\\quad - {l_2}^{Ii}_{Aa} {t_1}^{a}_{j} u^{Jj}_{Bi} P(AB) P(IJ) \\\\\n",
    "    \\text{d11d_l} &\\quad {l_2}^{Ii}_{Aa} {t_2}^{ab}_{ij} u^{Jj}_{Bb} P(AB) P(IJ) \\\\\n",
    "    \\text{d12a_l} &\\quad - {l_2}^{IJ}_{Aa} {t_1}^{a}_{i} {t_1}^{b}_{j} u^{ij}_{Bb} P(AB) \\\\\n",
    "    \\text{d12b_l} &\\quad - {l_2}^{Ii}_{AB} {t_1}^{a}_{i} {t_1}^{b}_{j} u^{Jj}_{ab} P(IJ) \\\\\n",
    "    \\text{d12c_l} &\\quad - {l_2}^{Ii}_{Aa} {t_1}^{a}_{j} {t_1} ^{b}_{i} u^{Jj}_{Bb} P(AB) P(IJ) \n",
    "\\end{align}"
   ]
  }
 ],
 "metadata": {
  "kernelspec": {
   "display_name": "Python 3",
   "language": "python",
   "name": "python3"
  },
  "language_info": {
   "codemirror_mode": {
    "name": "ipython",
    "version": 3
   },
   "file_extension": ".py",
   "mimetype": "text/x-python",
   "name": "python",
   "nbconvert_exporter": "python",
   "pygments_lexer": "ipython3",
   "version": "3.7.2"
  }
 },
 "nbformat": 4,
 "nbformat_minor": 2
}
