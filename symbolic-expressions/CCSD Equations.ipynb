{
 "cells": [
  {
   "cell_type": "markdown",
   "metadata": {},
   "source": [
    "## Generated from sympy script"
   ]
  },
  {
   "cell_type": "markdown",
   "metadata": {},
   "source": [
    "### $T_1$ equations"
   ]
  },
  {
   "cell_type": "markdown",
   "metadata": {},
   "source": [
    "\\begin{align}\n",
    "    f^{A}_{a} {t_1}^{a}_{I} \\\\\n",
    "    f^{i}_{a} {t_2}^{Aa}_{Ii} \\\\\n",
    "    {t_1}^{a}_{i} u^{Ai}_{Ia} \\\\\n",
    "    \\frac{1}{2}{t_2}^{ab}_{Ii} u^{Ai}_{ab} \\\\ \n",
    "    - f^{i}_{I} {t_1}^{A}_{i} \\\\\n",
    "    - \\frac{1}{2}{t_2}^{Aa}_{ij} u^{ij}_{Ia} \\\\\n",
    "    {t_1}^{a}_{i} {t_1}^{A}_{j} u^{ij}_{Ia} \\\\\n",
    "    {t_1}^{a}_{i} {t_2}^{Ab}_{Ij} u^{ij}_{ab} \\\\\n",
    "    - f^{i}_{a} {t_1}^{a}_{I} {t_1}^{A}_{i} \\\\\n",
    "    - {t_1}^{a}_{i} {t_1}^{b}_{I} u^{Ai}_{ab} \\\\\n",
    "    - \\frac{1}{2}{t_1}^{A}_{i} {t_2}^{ab}_{Ij} u^{ij}_{ab} \\\\\n",
    "    - \\frac{1}{2}{t_1}^{a}_{I} {t_2}^{Ab}_{ij} u^{ij}_{ab} \\\\\n",
    "    - {t_1}^{a}_{i} {t_1}^{b}_{I} {t_1}^{A}_{j} u^{ij}_{ab} \\\\\n",
    "    f^{A}_{I}\\\\\n",
    "\\end{align}"
   ]
  },
  {
   "cell_type": "markdown",
   "metadata": {},
   "source": [
    "### $T_2$ equations"
   ]
  },
  {
   "cell_type": "markdown",
   "metadata": {},
   "source": [
    "\\begin{align}\n",
    "    \\frac{1}{2}{t_2}^{AB}_{ij} u^{ij}_{IJ} \\\\\n",
    "    \\frac{1}{2}{t_2}^{ab}_{IJ} u^{AB}_{ab} \\\\\n",
    "    f^{i}_{I} {t_2}^{AB}_{Ji} P(IJ) \\\\\n",
    "    {t_1}^{A}_{i} {t_1}^{B}_{j} u^{ij}_{IJ} \\\\\n",
    "    {t_1}^{A}_{i} u^{Bi}_{IJ} P(AB) \\\\\n",
    "    {t_1}^{a}_{I} {t_1}^{b}_{J} u^{AB}_{ab} \\\\\n",
    "    - f^{A}_{a} {t_2}^{Ba}_{IJ} P(AB) \\\\\n",
    "    - {t_1}^{a}_{I} u^{AB}_{Ja} P(IJ) \\\\\n",
    "    \\frac{1}{4}{t_2}^{ab}_{IJ} {t_2}^{AB}_{ij} u^{ij}_{ab} \\\\\n",
    "    f^{i}_{a} {t_1}^{A}_{i} {t_2}^{Ba}_{IJ} P(AB) \\\\\n",
    "    f^{i}_{a} {t_1}^{a}_{I} {t_2}^{AB}_{Ji} P(IJ) \\\\\n",
    "    {t_1}^{a}_{i} {t_2}^{AB}_{Ij} u^{ij}_{Ja} P(IJ) \\\\\n",
    "    {t_2}^{Aa}_{Ii} {t_2}^{Bb}_{Jj} u^{ij}_{ab} P(AB) \\\\\n",
    "    {t_2}^{Aa}_{Ii} u^{Bi}_{Ja} P(AB) P(IJ) \\\\\n",
    "    \\frac{1}{2}{t_1}^{A}_{i} {t_1}^{B}_{j} {t_2}^{ab}_{IJ} u^{ij}_{ab} \\\\\n",
    "    \\frac{1}{2}{t_1}^{A}_{i} {t_2}^{ab}_{IJ} u^{Bi}_{ab} P(AB) \\\\\n",
    "    \\frac{1}{2}{t_1}^{a}_{I} {t_1}^{b}_{J} {t_2}^{AB}_{ij} u^{ij}_{ab} \\\\\n",
    "    \\frac{1}{2}{t_2}^{ab}_{Ji} {t_2}^{AB}_{Ij} u^{ij}_{ab} P(IJ) \\\\\n",
    "    - {t_1}^{a}_{i} {t_2}^{Ab}_{IJ} u^{Bi}_{ab} P(AB) \\\\\n",
    "    - \\frac{1}{2}{t_1}^{a}_{I} {t_2}^{AB}_{ij} u^{ij}_{Ja} P(IJ) \\\\\n",
    "    - \\frac{1}{2}{t_2}^{Aa}_{ij} {t_2}^{Bb}_{IJ} u^{ij}_{ab} P(AB) \\\\\n",
    "    {t_1}^{a}_{I} {t_1}^{b}_{J} {t_1}^{A}_{i} {t_1}^{B}_{j} u^{ij}_{ab} \\\\\n",
    "    {t_1}^{a}_{I} {t_1}^{b}_{J} {t_1}^{A}_{i} u^{Bi}_{ab} P(AB) \\\\\n",
    "    {t_1}^{A}_{i} {t_2}^{Ba}_{Ij} u^{ij}_{Ja} P(AB) P(IJ) \\\\\n",
    "    {t_1}^{a}_{i} {t_1}^{A}_{j} {t_2}^{Bb}_{IJ} u^{ij}_{ab} P(AB) \\\\\n",
    "    {t_1}^{a}_{i} {t_1}^{b}_{I} {t_2}^{AB}_{Jj} u^{ij}_{ab} P(IJ) \\\\\n",
    "    - {t_1}^{a}_{I} {t_1}^{A}_{i} {t_1}^{B}_{j} u^{ij}_{Ja} P(IJ) \\\\\n",
    "    - {t_1}^{a}_{I} {t_1}^{A}_{i} u^{Bi}_{Ja} P(AB) P(IJ) \\\\\n",
    "    - {t_1}^{a}_{I} {t_2}^{Ab}_{Ji} u^{Bi}_{ab} P(AB) P(IJ) \\\\\n",
    "    - {t_1}^{a}_{I} {t_1}^{A}_{i} {t_2}^{Bb}_{Jj} u^{ij}_{ab} P(AB) P(IJ) \\\\\n",
    "    u^{AB}_{IJ}\n",
    "\\end{align}"
   ]
  },
  {
   "cell_type": "markdown",
   "metadata": {},
   "source": [
    "### $L_1$ equations"
   ]
  },
  {
   "cell_type": "markdown",
   "metadata": {},
   "source": [
    "\\begin{align}\n",
    "    f^{a}_{A} {l_1}^{I}_{a} \\\\\n",
    "    - f^{I}_{i} {l_1}^{i}_{A} \\\\\n",
    "    {l_1}^{i}_{a} u^{Ia}_{Ai} \\\\\n",
    "    {t_1}^{a}_{i} u^{Ii}_{Aa} \\\\\n",
    "    \\frac{1}{2}{l_2}^{Ii}_{ab} u^{ab}_{Ai} \\\\\n",
    "    - \\frac{1}{2}{l_2}^{ij}_{Aa} u^{Ia}_{ij} \\\\\n",
    "    {l_1}^{I}_{a} {t_1}^{b}_{i} u^{ai}_{Ab} \\\\\n",
    "    {l_1}^{i}_{A} {t_1}^{a}_{j} u^{Ij}_{ai} \\\\\n",
    "    {l_1}^{i}_{a} {t_1}^{b}_{i} u^{Ia}_{Ab} \\\\\n",
    "    {l_1}^{i}_{a} {t_2}^{ab}_{ij} u^{Ij}_{Ab} \\\\\n",
    "    {l_2}^{Ii}_{ab} {t_1}^{a}_{j} u^{bj}_{Ai} \\\\\n",
    "    \\frac{1}{2}{l_2}^{Ii}_{ab} {t_1}^{c}_{i} u^{ab}_{Ac} \\\\\n",
    "    \\frac{1}{2}{l_2}^{ij}_{Aa} {t_1}^{a}_{k} u^{Ik}_{ij} \\\\\n",
    "    \\frac{1}{2}{l_2}^{ij}_{ab} {t_2}^{ac}_{ij} u^{Ib}_{Ac} \\\\\n",
    "    - f^{I}_{a} {l_1}^{i}_{A} {t_1}^{a}_{i} \\\\\n",
    "    - f^{i}_{A} {l_1}^{I}_{a} {t_1}^{a}_{i} \\\\\n",
    "    - {l_1}^{i}_{a} {t_1}^{a}_{j} u^{Ij}_{Ai} \\\\\n",
    "    - {l_2}^{Ii}_{ab} {t_2}^{ac}_{ij} u^{bj}_{Ac} \\\\\n",
    "    - {l_2}^{ij}_{Aa} {t_1}^{b}_{i} u^{Ia}_{bj} \\\\\n",
    "    - {l_2}^{ij}_{Aa} {t_2}^{ab}_{ik} u^{Ik}_{bj} \\\\\n",
    "    - \\frac{1}{2}f^{I}_{a} {l_2}^{ij}_{Ab} {t_2}^{ab}_{ij} \\\\\n",
    "    - \\frac{1}{2}f^{i}_{A} {l_2}^{Ij}_{ab} {t_2}^{ab}_{ij} \\\\\n",
    "    - \\frac{1}{2}{l_1}^{I}_{a} {t_2}^{ab}_{ij} u^{ij}_{Ab} \\\\\n",
    "    - \\frac{1}{2}{l_1}^{i}_{A} {t_2}^{ab}_{ij} u^{Ij}_{ab} \\\\\n",
    "    - \\frac{1}{2}{l_2}^{ij}_{ab} {t_2}^{ab}_{ik} u^{Ik}_{Aj} \\\\\n",
    "    - \\frac{1}{4}{l_2}^{ij}_{Aa} {t_2}^{bc}_{ij} u^{Ia}_{bc} \\\\\n",
    "    \\frac{1}{4}{l_2}^{Ii}_{ab} {t_2}^{ab}_{jk} u^{jk}_{Ai} \\\\\n",
    "    {l_2}^{Ii}_{ab} {t_1}^{a}_{j} {t_1}^{c}_{i} u^{bj}_{Ac} \\\\\n",
    "    {l_2}^{ij}_{Aa} {t_1}^{a}_{k} {t_1}^{b}_{i} u^{Ik}_{bj} \\\\\n",
    "    \\frac{1}{2}{l_2}^{ij}_{Aa} {t_1}^{b}_{j} {t_1}^{c}_{i} u^{Ia}_{bc} \\\\\n",
    "    \\frac{1}{2}{l_2}^{ij}_{ab} {t_1}^{a}_{k} {t_2}^{bc}_{ij} u^{Ik}_{Ac} \\\\\n",
    "    \\frac{1}{2}{l_2}^{ij}_{ab} {t_1}^{c}_{i} {t_2}^{ab}_{jk} u^{Ik}_{Ac} \\\\\n",
    "    - {l_1}^{I}_{a} {t_1}^{a}_{i} {t_1}^{b}_{j} u^{ij}_{Ab} \\\\\n",
    "    - {l_1}^{i}_{A} {t_1}^{a}_{i} {t_1}^{b}_{j} u^{Ij}_{ab} \\\\\n",
    "    - {l_1}^{i}_{a} {t_1}^{a}_{j} {t_1}^{b}_{i} u^{Ij}_{Ab} \\\\\n",
    "    - {l_2}^{Ii}_{ab} {t_1}^{a}_{j} {t_2}^{bc}_{ik} u^{jk}_{Ac} \\\\\n",
    "    - {l_2}^{ij}_{Aa} {t_1}^{b}_{i} {t_2}^{ac}_{jk} u^{Ik}_{bc} \\\\\n",
    "    - \\frac{1}{2}{l_2}^{Ii}_{ab} {t_1}^{a}_{k} {t_1}^{b}_{j} u^{jk}_{Ai} \\\\\n",
    "    - \\frac{1}{2}{l_2}^{Ii}_{ab} {t_1}^{c}_{j} {t_2}^{ab}_{ik} u^{jk}_{Ac} \\\\\n",
    "    - \\frac{1}{2}{l_2}^{ij}_{Aa} {t_1}^{b}_{k} {t_2}^{ac}_{ij} u^{Ik}_{bc} \\\\\n",
    "    \\frac{1}{4}{l_2}^{Ii}_{ab} {t_1}^{c}_{i} {t_2}^{ab}_{jk} u^{jk}_{Ac} \\\\\n",
    "    \\frac{1}{4}{l_2}^{ij}_{Aa} {t_1}^{a}_{k} {t_2}^{bc}_{ij} u^{Ik}_{bc} \\\\\n",
    "    - \\frac{1}{2}{l_2}^{Ii}_{ab} {t_1}^{a}_{k} {t_1}^{b}_{j} {t_1}^{c}_{i} u^{jk}_{Ac} \\\\\n",
    "    - \\frac{1}{2}{l_2}^{ij}_{Aa} {t_1}^{a}_{k} {t_1}^{b}_{j} {t_1}^{c}_{i} u^{Ik}_{bc} \\\\\n",
    "    f^{I}_{A}\n",
    "\\end{align}"
   ]
  },
  {
   "cell_type": "markdown",
   "metadata": {},
   "source": [
    "### $L_2$ equations"
   ]
  },
  {
   "cell_type": "markdown",
   "metadata": {},
   "source": [
    "\\begin{align}\n",
    "    \\frac{1}{2}{l_2}^{IJ}_{ab} u^{ab}_{AB} \\\\\n",
    "    \\frac{1}{2}{l_2}^{ij}_{AB} u^{IJ}_{ij} \\\\\n",
    "    f^{I}_{i} {l_2}^{Ji}_{AB} P(IJ) \\\\\n",
    "    {l_1}^{i}_{A} u^{IJ}_{Bi} P(AB) \\\\\n",
    "    {l_2}^{IJ}_{ab} {t_1}^{a}_{i} u^{bi}_{AB} \\\\\n",
    "    {l_2}^{ij}_{AB} {t_1}^{a}_{i} u^{IJ}_{aj} \\\\\n",
    "    - f^{a}_{A} {l_2}^{IJ}_{Ba} P(AB) \\\\\n",
    "    - {l_1}^{I}_{a} u^{Ja}_{AB} P(IJ) \\\\\n",
    "    \\frac{1}{4}{l_2}^{IJ}_{ab} {t_2}^{ab}_{ij} u^{ij}_{AB} \\\\\n",
    "    \\frac{1}{4}{l_2}^{ij}_{AB} {t_2}^{ab}_{ij} u^{IJ}_{ab} \\\\\n",
    "    f^{I}_{A} {l_1}^{J}_{B} P(AB) P(IJ) \\\\\n",
    "    f^{I}_{a} {l_2}^{Ji}_{AB} {t_1}^{a}_{i} P(IJ) \\\\\n",
    "    f^{i}_{A} {l_2}^{IJ}_{Ba} {t_1}^{a}_{i} P(AB) \\\\\n",
    "    {l_1}^{I}_{a} {t_1}^{a}_{i} u^{Ji}_{AB} P(IJ) \\\\ \n",
    "    {l_1}^{i}_{A} {t_1}^{a}_{i} u^{IJ}_{Ba} P(AB) \\\\\n",
    "    {l_2}^{IJ}_{Aa} {t_1}^{b}_{i} u^{ai}_{Bb} P(AB) \\\\\n",
    "    {l_2}^{Ii}_{AB} {t_1}^{a}_{j} u^{Jj}_{ai} P(IJ) \\\\\n",
    "    {l_2}^{Ii}_{Aa} u^{Ja}_{Bi} P(AB) P(IJ) \\\\\n",
    "    - \\frac{1}{2}{l_2}^{IJ}_{Aa} {t_2}^{ab}_{ij} u^{ij}_{Bb} P(AB) \\\\\n",
    "    - \\frac{1}{2}{l_2}^{IJ}_{ab} {t_1}^{a}_{j} {t_1}^{b}_{i} u^{ij}_{AB} \\\\\n",
    "    - \\frac{1}{2}{l_2}^{Ii}_{AB} {t_2}^{ab}_{ij} u^{Jj}_{ab} P(IJ) \\\\\n",
    "    - \\frac{1}{2}{l_2}^{Ii}_{ab} {t_2}^{ab}_{ij} u^{Jj}_{AB} P(IJ) \\\\\n",
    "    - \\frac{1}{2}{l_2}^{ij}_{AB} {t_1}^{a}_{j} {t_1}^{b}_{i} u^{IJ}_{ab} \\\\\n",
    "    - \\frac{1}{2}{l_2}^{ij}_{Aa} {t_2}^{ab}_{ij} u^{IJ}_{Bb} P(AB) \\\\\n",
    "    {l_1}^{I}_{A} {t_1}^{a}_{i} u^{Ji}_{Ba} P(AB) P(IJ) \\\\\n",
    "    {l_2}^{Ii}_{Aa} {t_1}^{b}_{i} u^{Ja}_{Bb} P(AB) P(IJ) \\\\\n",
    "    {l_2}^{Ii}_{Aa} {t_2}^{ab}_{ij} u^{Jj}_{Bb} P(AB) P(IJ) \\\\\n",
    "    - {l_2}^{IJ}_{Aa} {t_1}^{a}_{i} {t_1}^{b}_{j} u^{ij}_{Bb} P(AB) \\\\\n",
    "    - {l_2}^{Ii}_{AB} {t_1}^{a}_{i} {t_1}^{b}_{j} u^{Jj}_{ab} P(IJ) \\\\\n",
    "    - {l_2}^{Ii}_{Aa} {t_1}^{a}_{j} u^{Jj}_{Bi} P(AB) P(IJ) \\\\\n",
    "    - {l_2}^{Ii}_{Aa} {t_1}^{a}_{j} {t_1} ^{b}_{i} u^{Jj}_{Bb} P(AB) P(IJ) \\\\\n",
    "    u^{IJ}_{AB}\n",
    "\\end{align}"
   ]
  }
 ],
 "metadata": {
  "kernelspec": {
   "display_name": "Python 3",
   "language": "python",
   "name": "python3"
  },
  "language_info": {
   "codemirror_mode": {
    "name": "ipython",
    "version": 3
   },
   "file_extension": ".py",
   "mimetype": "text/x-python",
   "name": "python",
   "nbconvert_exporter": "python",
   "pygments_lexer": "ipython3",
   "version": "3.6.7"
  }
 },
 "nbformat": 4,
 "nbformat_minor": 2
}
