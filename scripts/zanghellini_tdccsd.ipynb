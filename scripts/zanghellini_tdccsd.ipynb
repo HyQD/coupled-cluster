{
 "cells": [
  {
   "cell_type": "markdown",
   "metadata": {},
   "source": [
    "# The Zangellini Similarity"
   ]
  },
  {
   "cell_type": "code",
   "execution_count": 1,
   "metadata": {},
   "outputs": [],
   "source": [
    "# Imports\n",
    "import numpy as np\n",
    "from matplotlib import pyplot as plt\n",
    "from quantum_systems import OneDimensionalHarmonicOscillator\n",
    "from quantum_systems.time_evolution_operators import LaserField\n",
    "from coupled_cluster.ccsd import TDCCSD\n",
    "from coupled_cluster.integrators import GaussIntegrator\n",
    "from tdhf import HartreeFock"
   ]
  },
  {
   "cell_type": "code",
   "execution_count": 2,
   "metadata": {},
   "outputs": [],
   "source": [
    "# Major Lazer\n",
    "class LaserPulse:\n",
    "    def __init__(self, laser_frequency=2, laser_strength=1):\n",
    "        self.laser_frequency = laser_frequency\n",
    "        self.laser_strength = laser_strength\n",
    "\n",
    "    def __call__(self, t):\n",
    "        return self.laser_strength * np.sin(self.laser_frequency * t)"
   ]
  },
  {
   "cell_type": "code",
   "execution_count": 3,
   "metadata": {},
   "outputs": [],
   "source": [
    "# The Zanghellini system\n",
    "n = 2\n",
    "l = 6\n",
    "length = 10\n",
    "num_grid_points = 400\n",
    "omega = 0.25\n",
    "laser_frequency = 8 * omega\n",
    "laser_strength = 1\n",
    "\n",
    "zanghellini = OneDimensionalHarmonicOscillator(\n",
    "    n, l, length, num_grid_points, omega=omega\n",
    ")\n",
    "zanghellini.setup_system()\n",
    "major_laser = LaserField(\n",
    "    LaserPulse(\n",
    "        laser_frequency=laser_frequency, laser_strength=laser_strength\n",
    "    )\n",
    ")\n",
    "\n",
    "zanghellini.set_time_evolution_operator(major_laser)"
   ]
  },
  {
   "cell_type": "code",
   "execution_count": 4,
   "metadata": {},
   "outputs": [
    {
     "name": "stdout",
     "output_type": "stream",
     "text": [
      "HF converged to given precision in 16 iterations\n",
      "Ehf: (1.1910077286632412+0j)\n"
     ]
    }
   ],
   "source": [
    "hf_zanghellini = HartreeFock(zanghellini, verbose=True)\n",
    "C = hf_zanghellini.scf(tolerance=1e-6)\n",
    "zanghellini.change_basis(C)"
   ]
  },
  {
   "cell_type": "code",
   "execution_count": 5,
   "metadata": {},
   "outputs": [
    {
     "name": "stdout",
     "output_type": "stream",
     "text": [
      "Iteration: 0\tResiduals (t): [0.10809284285626265, 0.14518168995958008]\n",
      "Iteration: 1\tResiduals (t): [0.021712122247475547, 0.05420627842641132]\n",
      "Iteration: 2\tResiduals (t): [0.007530080992619439, 0.022820550173323084]\n",
      "Iteration: 3\tResiduals (t): [0.0007552561265227088, 0.008371723639395881]\n",
      "Iteration: 4\tResiduals (t): [0.0004636413280843983, 0.0033377745812383625]\n",
      "Iteration: 5\tResiduals (t): [6.158010907051116e-05, 0.0012986008640555658]\n",
      "Iteration: 6\tResiduals (t): [3.41473842206973e-05, 0.0005180466171993282]\n",
      "Iteration: 7\tResiduals (t): [1.7583697073264153e-05, 0.00020791829042539085]\n",
      "Iteration: 8\tResiduals (t): [4.480221101126967e-06, 8.307664074654046e-05]\n",
      "Iteration: 0\tResiduals (l): [0.09900601905905533, 0.45644502665388614]\n",
      "Iteration: 1\tResiduals (l): [0.06772491708719953, 0.0707844549727992]\n",
      "Iteration: 2\tResiduals (l): [0.028467909730735846, 0.018322961424663827]\n",
      "Iteration: 3\tResiduals (l): [0.008923686750348055, 0.003059179114199269]\n",
      "Iteration: 4\tResiduals (l): [0.002740006636990082, 0.0018983554776376634]\n",
      "Iteration: 5\tResiduals (l): [0.0006527546970455466, 0.0008278082873641341]\n",
      "Iteration: 6\tResiduals (l): [0.00017757654753499514, 0.0002697179379302156]\n",
      "Iteration: 7\tResiduals (l): [2.7355429399535092e-05, 0.00012334177384572598]\n",
      "Iteration: 8\tResiduals (l): [8.03464126074712e-06, 3.982773015878311e-05]\n",
      "HF->CCSD ground state energy: 0.8273572\n"
     ]
    }
   ],
   "source": [
    "tdccsd_zanghellini = TDCCSD(zanghellini, np=np, verbose=True)\n",
    "tdccsd_zanghellini.compute_ground_state()\n",
    "print(f\"HF->CCSD ground state energy: {tdccsd_zanghellini.compute_ground_state_energy().real:8.7}\")"
   ]
  },
  {
   "cell_type": "code",
   "execution_count": 6,
   "metadata": {
    "scrolled": true
   },
   "outputs": [
    {
     "data": {
      "image/png": "[encoded data removed]",
      "text/plain": [
       "<Figure size 432x288 with 1 Axes>"
      ]
     },
     "metadata": {
      "needs_background": "light"
     },
     "output_type": "display_data"
    }
   ],
   "source": [
    "rho = tdccsd_zanghellini.compute_ground_state_particle_density()\n",
    "plt.plot(zanghellini.grid, rho.real)\n",
    "plt.show()"
   ]
  },
  {
   "cell_type": "code",
   "execution_count": 7,
   "metadata": {},
   "outputs": [],
   "source": [
    "tdccsd_zanghellini.set_initial_conditions()"
   ]
  },
  {
   "cell_type": "code",
   "execution_count": 9,
   "metadata": {},
   "outputs": [],
   "source": [
    "num_time_steps = 1001\n",
    "time_points = np.linspace(0, 10, num_time_steps)\n",
    "psi_overlap = np.zeros(num_time_steps)\n",
    "td_energies = np.zeros(num_time_steps)\n",
    "\n",
    "psi_overlap[0] = tdccsd_zanghellini.compute_time_dependent_overlap().real\n",
    "td_energies[0] = tdccsd_zanghellini.compute_energy().real"
   ]
  },
  {
   "cell_type": "code",
   "execution_count": null,
   "metadata": {},
   "outputs": [],
   "source": [
    "for "
   ]
  }
 ],
 "metadata": {
  "kernelspec": {
   "display_name": "Python 3",
   "language": "python",
   "name": "python3"
  },
  "language_info": {
   "codemirror_mode": {
    "name": "ipython",
    "version": 3
   },
   "file_extension": ".py",
   "mimetype": "text/x-python",
   "name": "python",
   "nbconvert_exporter": "python",
   "pygments_lexer": "ipython3",
   "version": "3.7.2"
  }
 },
 "nbformat": 4,
 "nbformat_minor": 2
}
