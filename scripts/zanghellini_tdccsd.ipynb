{
 "cells": [
  {
   "cell_type": "markdown",
   "metadata": {},
   "source": [
    "# The Zangellini Similarity"
   ]
  },
  {
   "cell_type": "code",
   "execution_count": 1,
   "metadata": {},
   "outputs": [],
   "source": [
    "# Imports\n",
    "from tqdm import tqdm_notebook\n",
    "import numpy as np\n",
    "from matplotlib import pyplot as plt\n",
    "from quantum_systems import OneDimensionalHarmonicOscillator\n",
    "from quantum_systems.time_evolution_operators import LaserField\n",
    "from coupled_cluster.ccsd import TDCCSD\n",
    "from coupled_cluster.integrators import GaussIntegrator\n",
    "from tdhf import HartreeFock\n",
    "from coupled_cluster.mix import DIIS"
   ]
  },
  {
   "cell_type": "code",
   "execution_count": 2,
   "metadata": {},
   "outputs": [],
   "source": [
    "# Major Lazer\n",
    "class LaserPulse:\n",
    "    def __init__(self, laser_frequency=2, laser_strength=1):\n",
    "        self.laser_frequency = laser_frequency\n",
    "        self.laser_strength = laser_strength\n",
    "\n",
    "    def __call__(self, t):\n",
    "        return self.laser_strength * np.sin(self.laser_frequency * t)"
   ]
  },
  {
   "cell_type": "code",
   "execution_count": 3,
   "metadata": {},
   "outputs": [],
   "source": [
    "# The Zanghellini system\n",
    "n = 2\n",
    "l = 12\n",
    "length = 10\n",
    "num_grid_points = 400\n",
    "omega = 0.25\n",
    "laser_frequency = 8 * omega\n",
    "laser_strength = 1\n",
    "\n",
    "zanghellini = OneDimensionalHarmonicOscillator(\n",
    "    n, l, length, num_grid_points, omega=omega\n",
    ")\n",
    "zanghellini.setup_system()\n",
    "major_laser = LaserField(\n",
    "    LaserPulse(\n",
    "        laser_frequency=laser_frequency, laser_strength=laser_strength\n",
    "    )\n",
    ")\n",
    "\n",
    "zanghellini.set_time_evolution_operator(major_laser)"
   ]
  },
  {
   "cell_type": "code",
   "execution_count": 4,
   "metadata": {},
   "outputs": [],
   "source": [
    "# hf_zanghellini = HartreeFock(zanghellini, verbose=True)\n",
    "# C = hf_zanghellini.scf(tolerance=1e-6)\n",
    "# zanghellini.change_basis(C)\n",
    "zanghellini.change_to_hf_basis(tolerance=1e-6)"
   ]
  },
  {
   "cell_type": "code",
   "execution_count": 5,
   "metadata": {},
   "outputs": [
    {
     "name": "stdout",
     "output_type": "stream",
     "text": [
      "Iteration: 0\tResiduals (t): [0.1668522054549599, 0.6947037652014731]\n",
      "Iteration: 1\tResiduals (t): [0.17300833356955708, 0.5250697820459913]\n",
      "Iteration: 2\tResiduals (t): [0.00701803677648449, 0.15626205156286593]\n",
      "Iteration: 3\tResiduals (t): [0.029866397104634058, 0.04966511414214478]\n",
      "Iteration: 4\tResiduals (t): [0.02438437019973683, 0.12413839797089084]\n",
      "Iteration: 5\tResiduals (t): [0.06468967192785935, 0.030131406211840184]\n",
      "Iteration: 6\tResiduals (t): [0.006230697405513582, 0.043026933237194455]\n",
      "Iteration: 7\tResiduals (t): [0.01600224973747707, 0.036623233031912776]\n",
      "Iteration: 8\tResiduals (t): [0.013353498503456062, 0.015323103941999724]\n",
      "Iteration: 9\tResiduals (t): [0.0015137397133631663, 0.016660862214469205]\n",
      "Iteration: 10\tResiduals (t): [0.0017592982022362506, 0.016005691631739347]\n",
      "Iteration: 11\tResiduals (t): [0.0002495559184744392, 0.008727160355665918]\n",
      "Iteration: 12\tResiduals (t): [0.0037978154959978838, 0.0060937115768151156]\n",
      "Iteration: 13\tResiduals (t): [0.0034915099869735023, 0.007861729361361453]\n",
      "Iteration: 14\tResiduals (t): [0.002335868366412874, 0.008647909379028368]\n",
      "Iteration: 15\tResiduals (t): [0.003765779368166386, 0.0025989384704974807]\n",
      "Iteration: 16\tResiduals (t): [0.0033483732511820565, 0.001030144664621698]\n",
      "Iteration: 17\tResiduals (t): [0.002583607129457112, 0.002948980739830281]\n",
      "Iteration: 18\tResiduals (t): [0.0013800482259972782, 0.00017029117394856924]\n",
      "Iteration: 19\tResiduals (t): [0.00201240308989808, 0.0037117243018599333]\n",
      "Iteration: 20\tResiduals (t): [0.0009534041395219765, 0.004239901937072624]\n",
      "Iteration: 21\tResiduals (t): [0.00088845618078083, 0.002604642371805077]\n",
      "Iteration: 22\tResiduals (t): [0.00010096135801346372, 0.005763146979057587]\n",
      "Iteration: 23\tResiduals (t): [6.444036899094877e-05, 0.007085591031884691]\n",
      "Iteration: 24\tResiduals (t): [0.0003745559265707852, 0.0056078757707595]\n",
      "Iteration: 25\tResiduals (t): [0.0016417370635991712, 0.0020233937008647474]\n",
      "Iteration: 26\tResiduals (t): [0.0009174239943151404, 0.00029833200619119177]\n",
      "Iteration: 27\tResiduals (t): [0.0014905723521388132, 7.693822562352973e-05]\n",
      "Iteration: 28\tResiduals (t): [0.00119681836632755, 0.0033950156558219804]\n",
      "Iteration: 29\tResiduals (t): [0.00285155242384585, 0.0022587708394352065]\n",
      "Iteration: 30\tResiduals (t): [0.0007440170349011191, 0.002399542957125099]\n",
      "Iteration: 31\tResiduals (t): [9.249802005472471e-05, 0.0021510088957744267]\n",
      "Iteration: 32\tResiduals (t): [0.00016314243507587321, 0.0009541863580776167]\n",
      "Iteration: 33\tResiduals (t): [0.00012213985414525775, 0.00048201280628351264]\n",
      "Iteration: 34\tResiduals (t): [0.0008162584482030569, 0.0035388626017157066]\n",
      "Iteration: 35\tResiduals (t): [0.00014046867528227474, 0.0003210612391173955]\n",
      "Iteration: 36\tResiduals (t): [0.00015457446410487098, 0.0005152996275345138]\n",
      "Iteration: 37\tResiduals (t): [0.00031038377441963645, 0.0001464494782163293]\n",
      "Iteration: 38\tResiduals (t): [0.0002292236413974545, 0.0009724717500508215]\n",
      "Iteration: 39\tResiduals (t): [0.0009191034468225664, 0.00011491683601787259]\n",
      "Iteration: 40\tResiduals (t): [0.0002928202599914348, 0.0003450244773668127]\n",
      "Iteration: 41\tResiduals (t): [0.00030088112540829363, 0.0004883364163847631]\n",
      "Iteration: 42\tResiduals (t): [0.00017166070385951613, 0.00022877905490904348]\n",
      "Iteration: 43\tResiduals (t): [2.0258082425305274e-05, 0.00011702495833684479]\n",
      "Iteration: 44\tResiduals (t): [3.20225321940692e-05, 0.0001533450964654663]\n",
      "Iteration: 45\tResiduals (t): [9.741441373362069e-05, 0.00019458460801725049]\n",
      "Iteration: 46\tResiduals (t): [6.97748981518387e-05, 0.00017491965763363597]\n",
      "Iteration: 47\tResiduals (t): [5.921481363370502e-05, 0.00010389582063787484]\n",
      "Iteration: 48\tResiduals (t): [1.730841359474019e-05, 5.4607048533804594e-05]\n",
      "Iteration: 0\tResiduals (l): [0.17048490176915107, 1.0972001282526986]\n",
      "Iteration: 1\tResiduals (l): [0.22151819723617588, 0.9330553608183539]\n",
      "Iteration: 2\tResiduals (l): [0.01910698872023051, 0.1723237910583541]\n",
      "Iteration: 3\tResiduals (l): [0.01641215145128245, 0.03913360427957228]\n",
      "Iteration: 4\tResiduals (l): [0.015579215272034784, 0.020003978877203232]\n",
      "Iteration: 5\tResiduals (l): [0.00266103796784279, 0.0018513891219245333]\n",
      "Iteration: 6\tResiduals (l): [0.005015754915991285, 0.0009495044852624305]\n",
      "Iteration: 7\tResiduals (l): [0.0046932181640295875, 0.004160871080555779]\n",
      "Iteration: 8\tResiduals (l): [0.0017789419838278445, 0.007732601033855882]\n",
      "Iteration: 9\tResiduals (l): [0.0017848209602415702, 0.006550519560258286]\n",
      "Iteration: 10\tResiduals (l): [0.0007504599397903341, 0.007592098553603257]\n",
      "Iteration: 11\tResiduals (l): [0.0006364937884746972, 0.00776375408037997]\n",
      "Iteration: 12\tResiduals (l): [0.0003748508863542744, 0.007932141203363068]\n",
      "Iteration: 13\tResiduals (l): [0.004188109047442707, 0.012776467814671056]\n",
      "Iteration: 14\tResiduals (l): [0.0015837055965677099, 0.0011740855302596602]\n",
      "Iteration: 15\tResiduals (l): [0.001333066896841289, 0.0018689906857429256]\n",
      "Iteration: 16\tResiduals (l): [0.00026829859186117854, 0.0007846227788418973]\n",
      "Iteration: 17\tResiduals (l): [0.0012349395890756253, 0.001766741938662636]\n",
      "Iteration: 18\tResiduals (l): [0.0002629230752534821, 0.00044353022783297756]\n",
      "Iteration: 19\tResiduals (l): [0.00018408207765661678, 0.0011895074869309405]\n",
      "Iteration: 20\tResiduals (l): [0.00043539514400064093, 0.0009262430601244304]\n",
      "Iteration: 21\tResiduals (l): [0.0002014598290721545, 0.0007144065901368898]\n",
      "Iteration: 22\tResiduals (l): [3.7626262690044984e-05, 0.0009648546139147102]\n",
      "Iteration: 23\tResiduals (l): [5.647887854874465e-05, 0.0005248197856246675]\n",
      "Iteration: 24\tResiduals (l): [0.0003484640485386815, 0.0011881033010462294]\n",
      "Iteration: 25\tResiduals (l): [7.744972825726845e-05, 0.0002568750059525712]\n",
      "Iteration: 26\tResiduals (l): [0.00012028738002911231, 0.0004508239345157335]\n",
      "Iteration: 27\tResiduals (l): [0.00010645599821627235, 0.0001984293690669173]\n",
      "Iteration: 28\tResiduals (l): [0.0001515090597162195, 0.00018066256378451544]\n",
      "Iteration: 29\tResiduals (l): [8.27782079376057e-05, 6.277158687350709e-05]\n",
      "HF->CCSD ground state energy: 0.8259088\n"
     ]
    }
   ],
   "source": [
    "tdccsd_zanghellini = TDCCSD(zanghellini, \n",
    "                            np=np, \n",
    "                            verbose=True, \n",
    "                            mixer=DIIS, \n",
    "                            integrator=GaussIntegrator(np=np, eps=1e-10))\n",
    "tdccsd_zanghellini.compute_ground_state(t_kwargs=dict(num_vecs=5), l_kwargs=dict(num_vecs=5))\n",
    "print(f\"HF->CCSD ground state energy: {tdccsd_zanghellini.compute_ground_state_energy().real:8.7}\")"
   ]
  },
  {
   "cell_type": "code",
   "execution_count": 6,
   "metadata": {
    "scrolled": true
   },
   "outputs": [
    {
     "data": {
      "image/png": "[encoded data removed]",
      "text/plain": [
       "<Figure size 432x288 with 1 Axes>"
      ]
     },
     "metadata": {
      "needs_background": "light"
     },
     "output_type": "display_data"
    }
   ],
   "source": [
    "rho = tdccsd_zanghellini.compute_ground_state_particle_density()\n",
    "plt.plot(zanghellini.grid, rho.real)\n",
    "plt.show()"
   ]
  },
  {
   "cell_type": "code",
   "execution_count": 7,
   "metadata": {},
   "outputs": [],
   "source": [
    "tdccsd_zanghellini.set_initial_conditions()"
   ]
  },
  {
   "cell_type": "code",
   "execution_count": 8,
   "metadata": {},
   "outputs": [],
   "source": [
    "num_time_steps = 1001\n",
    "time_points = np.linspace(0, 10, num_time_steps)\n",
    "psi_overlap = np.zeros(num_time_steps)\n",
    "td_energies = np.zeros(num_time_steps)\n",
    "\n",
    "psi_overlap[0] = tdccsd_zanghellini.compute_time_dependent_overlap().real\n",
    "td_energies[0] = tdccsd_zanghellini.compute_energy().real"
   ]
  },
  {
   "cell_type": "code",
   "execution_count": 9,
   "metadata": {},
   "outputs": [
    {
     "data": {
      "application/vnd.jupyter.widget-view+json": {
       "model_id": "6c03e5907b014b9eafa9d1789326c7c4",
       "version_major": 2,
       "version_minor": 0
      },
      "text/plain": [
       "HBox(children=(IntProgress(value=0, max=1000), HTML(value='')))"
      ]
     },
     "metadata": {},
     "output_type": "display_data"
    },
    {
     "name": "stdout",
     "output_type": "stream",
     "text": [
      "\n"
     ]
    }
   ],
   "source": [
    "for i, amp in tqdm_notebook(enumerate(tdccsd_zanghellini.solve(time_points)), total=num_time_steps-1):\n",
    "    psi_overlap[i + 1] = tdccsd_zanghellini.compute_time_dependent_overlap().real\n",
    "    td_energies[i + 1] = tdccsd_zanghellini.compute_energy().real"
   ]
  },
  {
   "cell_type": "code",
   "execution_count": 10,
   "metadata": {},
   "outputs": [
    {
     "data": {
      "image/png": "[encoded data removed]",
      "text/plain": [
       "<Figure size 432x288 with 1 Axes>"
      ]
     },
     "metadata": {
      "needs_background": "light"
     },
     "output_type": "display_data"
    }
   ],
   "source": [
    "plt.plot(time_points, psi_overlap)\n",
    "plt.title(\"Time dependent overlap with ground state\")\n",
    "plt.show()"
   ]
  },
  {
   "cell_type": "code",
   "execution_count": 11,
   "metadata": {},
   "outputs": [
    {
     "data": {
      "image/png": "[encoded data removed]",
      "text/plain": [
       "<Figure size 432x288 with 1 Axes>"
      ]
     },
     "metadata": {
      "needs_background": "light"
     },
     "output_type": "display_data"
    }
   ],
   "source": [
    "plt.plot(time_points, td_energies)\n",
    "plt.title(\"Time dependent energy\")\n",
    "plt.show()"
   ]
  }
 ],
 "metadata": {
  "kernelspec": {
   "display_name": "Python 3",
   "language": "python",
   "name": "python3"
  },
  "language_info": {
   "codemirror_mode": {
    "name": "ipython",
    "version": 3
   },
   "file_extension": ".py",
   "mimetype": "text/x-python",
   "name": "python",
   "nbconvert_exporter": "python",
   "pygments_lexer": "ipython3",
   "version": "3.7.2"
  }
 },
 "nbformat": 4,
 "nbformat_minor": 2
}
