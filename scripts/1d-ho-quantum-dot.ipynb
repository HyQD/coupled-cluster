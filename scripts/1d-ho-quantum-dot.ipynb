{
 "cells": [
  {
   "cell_type": "code",
   "execution_count": 2,
   "metadata": {},
   "outputs": [],
   "source": [
    "import numpy as np\n",
    "import matplotlib.pyplot as plt\n",
    "from matplotlib import cm\n",
    "from mpl_toolkits.mplot3d import Axes3D\n",
    "\n",
    "from tdhf import HartreeFock\n",
    "from quantum_systems import OneDimensionalHarmonicOscillator\n",
    "from quantum_systems.time_evolution_operators import LaserField\n",
    "from coupled_cluster.ccd import OATDCCD\n",
    "from coupled_cluster.integrators import GaussIntegrator"
   ]
  },
  {
   "cell_type": "code",
   "execution_count": 34,
   "metadata": {},
   "outputs": [],
   "source": [
    "class LaserPulse:\n",
    "\n",
    "    def __init__(self, t_0=0, t_final=10, omega=8, strength=1):\n",
    "        self.t_0 = t_0\n",
    "        self.t_final = t_final\n",
    "        self.omega = omega\n",
    "        self.strength = strength\n",
    "\n",
    "    def __call__(self, t):\n",
    "        return self.strength * np.sin(self.omega * t)"
   ]
  },
  {
   "cell_type": "code",
   "execution_count": 54,
   "metadata": {},
   "outputs": [
    {
     "name": "stdout",
     "output_type": "stream",
     "text": [
      "(1.09327502238+0j)\n",
      "(1.30210890214+0j)\n",
      "(1.13553354333+0j)\n",
      "(1.20958000923+0j)\n",
      "(1.16561004743+0j)\n",
      "(1.18748537823+0j)\n",
      "(1.17555254998+0j)\n",
      "(1.18174336521+0j)\n",
      "(1.1784457759+0j)\n",
      "(1.18017780262+0j)\n",
      "(1.17926132039+0j)\n",
      "(1.17974437286+0j)\n",
      "(1.179489243+0j)\n",
      "(1.17962384596+0j)\n",
      "(1.17955279042+0j)\n",
      "(1.17959028852+0j)\n",
      "(1.1795704965+0j)\n",
      "(1.17958094212+0j)\n",
      "(1.179575429+0j)\n",
      "(1.17957833872+0j)\n",
      "(1.179576803+0j)\n",
      "(1.17957761353+0j)\n",
      "HF converged to given precision in 21 iterations\n",
      "Ehf: (1.1795776135259683+0j)\n"
     ]
    }
   ],
   "source": [
    "n = 2\n",
    "l = 18\n",
    "\n",
    "radius = 10\n",
    "num_grid_points = 401\n",
    "omega = 0.25\n",
    "mass = 1\n",
    "\n",
    "tdho = OneDimensionalHarmonicOscillator(n, l, radius, num_grid_points, omega=omega, mass=mass)\n",
    "tdho.setup_system()\n",
    "\n",
    "hf = HartreeFock(tdho, verbose=True)\n",
    "C = hf.scf(tolerance=1e-6)\n",
    "tdho.change_basis(C)"
   ]
  },
  {
   "cell_type": "code",
   "execution_count": 55,
   "metadata": {},
   "outputs": [],
   "source": [
    "polarization_vector = np.zeros(1)\n",
    "polarization_vector[0] = 1\n",
    "\n",
    "laser = LaserField(\n",
    "    LaserPulse(omega=8*omega, strength=1),\n",
    "    polarization_vector=polarization_vector\n",
    ")\n",
    "\n",
    "tdho.set_time_evolution_operator(laser)"
   ]
  },
  {
   "cell_type": "code",
   "execution_count": 56,
   "metadata": {},
   "outputs": [
    {
     "name": "stdout",
     "output_type": "stream",
     "text": [
      "Iteration: 0\tDiff (t): [100]\n",
      "Iteration: 1\tDiff (t): [0.25341226437577835]\n",
      "Iteration: 2\tDiff (t): [0.21894315619913338]\n",
      "Iteration: 3\tDiff (t): [0.1403404948269556]\n",
      "Iteration: 4\tDiff (t): [0.12735828673190258]\n",
      "Iteration: 5\tDiff (t): [0.098314528262285761]\n",
      "Iteration: 6\tDiff (t): [0.086787655766179583]\n",
      "Iteration: 7\tDiff (t): [0.07175117701590672]\n",
      "Iteration: 8\tDiff (t): [0.062636939786929302]\n",
      "Iteration: 9\tDiff (t): [0.053145966917392817]\n",
      "Iteration: 10\tDiff (t): [0.046216062962614934]\n",
      "Iteration: 11\tDiff (t): [0.039612896900873662]\n",
      "Iteration: 12\tDiff (t): [0.034392703254820522]\n",
      "Iteration: 13\tDiff (t): [0.029604141671556672]\n",
      "Iteration: 14\tDiff (t): [0.025679944384329023]\n",
      "Iteration: 15\tDiff (t): [0.022148059342431525]\n",
      "Iteration: 16\tDiff (t): [0.019200202577944081]\n",
      "Iteration: 17\tDiff (t): [0.016576701010624861]\n",
      "Iteration: 18\tDiff (t): [0.01436353676920421]\n",
      "Iteration: 19\tDiff (t): [0.012408574668082373]\n",
      "Iteration: 20\tDiff (t): [0.010747935167347344]\n",
      "Iteration: 21\tDiff (t): [0.0092888280766452169]\n",
      "Iteration: 22\tDiff (t): [0.0080434194084228472]\n",
      "Iteration: 23\tDiff (t): [0.0069534205463893106]\n",
      "Iteration: 24\tDiff (t): [0.0060198280383205183]\n",
      "Iteration: 25\tDiff (t): [0.0052051065325192658]\n",
      "Iteration: 26\tDiff (t): [0.0045055081291513477]\n",
      "Iteration: 27\tDiff (t): [0.0038963117571619854]\n",
      "Iteration: 28\tDiff (t): [0.0033722048708475505]\n",
      "Iteration: 29\tDiff (t): [0.0029165644375263033]\n",
      "Iteration: 30\tDiff (t): [0.0025240112379076862]\n",
      "Iteration: 31\tDiff (t): [0.0021831542941760373]\n",
      "Iteration: 32\tDiff (t): [0.0018891815816108326]\n",
      "Iteration: 33\tDiff (t): [0.0016341554512615541]\n",
      "Iteration: 34\tDiff (t): [0.0014140338919991779]\n",
      "Iteration: 35\tDiff (t): [0.0012232051614967654]\n",
      "Iteration: 36\tDiff (t): [0.0010583971422450933]\n",
      "Iteration: 37\tDiff (t): [0.00091559406951213784]\n",
      "Iteration: 38\tDiff (t): [0.000792208538456185]\n",
      "Iteration: 39\tDiff (t): [0.00068533817681493137]\n",
      "Iteration: 40\tDiff (t): [0.0005929688568211966]\n",
      "Iteration: 41\tDiff (t): [0.00051298609391664529]\n",
      "Iteration: 42\tDiff (t): [0.00044383891076349435]\n",
      "Iteration: 43\tDiff (t): [0.00038397707398696301]\n",
      "Iteration: 44\tDiff (t): [0.00033221535552019343]\n",
      "Iteration: 45\tDiff (t): [0.00028741158789691301]\n",
      "Iteration: 46\tDiff (t): [0.00024866499837067346]\n",
      "Iteration: 47\tDiff (t): [0.00021513085913538177]\n",
      "Iteration: 48\tDiff (t): [0.00018612730348765982]\n",
      "Iteration: 49\tDiff (t): [0.00016102775695331362]\n",
      "Iteration: 50\tDiff (t): [0.00013931756126178696]\n",
      "Iteration: 51\tDiff (t): [0.00012053092001479415]\n",
      "Iteration: 52\tDiff (t): [0.0001042802118194075]\n",
      "Iteration: 53\tDiff (t): [9.0218576900946701e-05]\n",
      "Iteration: 0\tDiff (l): [100]\n",
      "Iteration: 1\tDiff (l): [0.26659114371529424]\n",
      "Iteration: 2\tDiff (l): [0.079759822023764082]\n",
      "Iteration: 3\tDiff (l): [0.023155103486886597]\n",
      "Iteration: 4\tDiff (l): [0.012951838385963477]\n",
      "Iteration: 5\tDiff (l): [0.0028055085339146746]\n",
      "Iteration: 6\tDiff (l): [0.0026535551261821499]\n",
      "Iteration: 7\tDiff (l): [0.00075124618216118599]\n",
      "Iteration: 8\tDiff (l): [0.00067183870870718421]\n",
      "Iteration: 9\tDiff (l): [0.00024320816254189137]\n",
      "Iteration: 10\tDiff (l): [0.00020704548847982895]\n",
      "Iteration: 11\tDiff (l): [8.9588780112559441e-05]\n",
      "Ground state CCD energy: (0.8386234129316626+0j)\n"
     ]
    }
   ],
   "source": [
    "cc_kwargs = dict(verbose=True)\n",
    "theta_t = 0.2\n",
    "theta_l = 0.4\n",
    "tol = 1e-4\n",
    "\n",
    "integrator = GaussIntegrator(np=np, eps=1e-10)\n",
    "oatdccd = OATDCCD(tdho, np=np, integrator=integrator, **cc_kwargs)\n",
    "\n",
    "t_kwargs = dict(theta=theta_t, tol=tol)\n",
    "l_kwargs = dict(theta=theta_l, tol=tol)\n",
    "\n",
    "oatdccd.compute_ground_state(t_kwargs=t_kwargs, l_kwargs=l_kwargs)\n",
    "print(\"Ground state CCD energy: {0}\".format(oatdccd.compute_ground_state_energy()))"
   ]
  },
  {
   "cell_type": "code",
   "execution_count": 57,
   "metadata": {},
   "outputs": [],
   "source": [
    "oatdccd.set_initial_conditions()"
   ]
  },
  {
   "cell_type": "code",
   "execution_count": 58,
   "metadata": {},
   "outputs": [],
   "source": [
    "num_timesteps = 1401\n",
    "t_end = 14\n",
    "time_points = np.linspace(0, t_end, num_timesteps)"
   ]
  },
  {
   "cell_type": "code",
   "execution_count": 59,
   "metadata": {},
   "outputs": [],
   "source": [
    "psi_overlap = np.zeros(num_timesteps, dtype=np.complex128)\n",
    "td_energies = np.zeros(num_timesteps, dtype=np.complex128)\n",
    "\n",
    "psi_overlap[0] = oatdccd.compute_time_dependent_overlap()\n",
    "td_energies[0] = oatdccd.compute_energy()"
   ]
  },
  {
   "cell_type": "code",
   "execution_count": 60,
   "metadata": {},
   "outputs": [
    {
     "name": "stdout",
     "output_type": "stream",
     "text": [
      "step = 1400 / 1400                                                                                  \r"
     ]
    }
   ],
   "source": [
    "step_final = num_timesteps - 1\n",
    "\n",
    "for i, amp in enumerate(oatdccd.solve(time_points)):\n",
    "    step = i + 1\n",
    "    print(100 * \" \", end=\"\\r\")\n",
    "    print(f\"step = {step} / {step_final}\", end=\"\\r\")\n",
    "    psi_overlap[i + 1] = oatdccd.compute_time_dependent_overlap()\n",
    "    td_energies[i + 1] = oatdccd.compute_energy()"
   ]
  },
  {
   "cell_type": "code",
   "execution_count": 61,
   "metadata": {},
   "outputs": [
    {
     "data": {
      "image/png": "[encoded data removed]",
      "text/plain": [
       "<Figure size 432x288 with 1 Axes>"
      ]
     },
     "metadata": {},
     "output_type": "display_data"
    }
   ],
   "source": [
    "plt.plot(time_points, td_energies.real)\n",
    "plt.show()"
   ]
  },
  {
   "cell_type": "code",
   "execution_count": null,
   "metadata": {},
   "outputs": [],
   "source": []
  }
 ],
 "metadata": {
  "kernelspec": {
   "display_name": "Python 3",
   "language": "python",
   "name": "python3"
  },
  "language_info": {
   "codemirror_mode": {
    "name": "ipython",
    "version": 3
   },
   "file_extension": ".py",
   "mimetype": "text/x-python",
   "name": "python",
   "nbconvert_exporter": "python",
   "pygments_lexer": "ipython3",
   "version": "3.6.7"
  }
 },
 "nbformat": 4,
 "nbformat_minor": 2
}
