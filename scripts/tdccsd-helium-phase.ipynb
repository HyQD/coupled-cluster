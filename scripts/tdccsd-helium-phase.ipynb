{
 "cells": [
  {
   "cell_type": "code",
   "execution_count": 6,
   "metadata": {},
   "outputs": [],
   "source": [
    "import numpy as np\n",
    "import matplotlib.pyplot as plt\n",
    "import tqdm\n",
    "\n",
    "from quantum_systems import construct_psi4_system, construct_pyscf_system\n",
    "from quantum_systems.time_evolution_operators import LaserField\n",
    "from coupled_cluster.ccsd import TDCCSD\n",
    "from coupled_cluster.integrators import GaussIntegrator"
   ]
  },
  {
   "cell_type": "code",
   "execution_count": 7,
   "metadata": {},
   "outputs": [],
   "source": [
    "class LaserPulse:\n",
    "    def __init__(self, t0=0, td=5, omega=0.1, E=0.03):\n",
    "        self.t0 = t0\n",
    "        self.td = td\n",
    "        self.omega = omega\n",
    "        self.E = E  # Field strength\n",
    "\n",
    "    def __call__(self, t):\n",
    "        \n",
    "        T = self.td\n",
    "        delta_t = t - self.t0\n",
    "        return (\n",
    "            -(np.sin(np.pi * delta_t / T) ** 2)\n",
    "            * np.heaviside(delta_t, 1.0)\n",
    "            * np.heaviside(T - delta_t, 1.0)\n",
    "            * np.cos(self.omega * delta_t)\n",
    "            * self.E\n",
    "        )       "
   ]
  },
  {
   "cell_type": "code",
   "execution_count": 11,
   "metadata": {},
   "outputs": [
    {
     "name": "stdout",
     "output_type": "stream",
     "text": [
      "converged SCF energy = -2.85516047724274  <S^2> = 0  2S+1 = 1\n"
     ]
    }
   ],
   "source": [
    "#Setup system\n",
    "backend = \"pyscf\"\n",
    "if backend == \"psi4\":\n",
    "    He = \"\"\"\n",
    "    He 0.0 0.0 0.0\n",
    "    symmetry c1\n",
    "    \"\"\"\n",
    "    options = {\"basis\": \"cc-pvdz\", \"scf_type\": \"pk\", \"e_convergence\": 1e-8}\n",
    "    system = construct_psi4_system(He, options)\n",
    "    system.change_to_hf_basis(tolerance=1e-15, verbose=True)\n",
    "elif backend == \"pyscf\":\n",
    "    \"\"\"\n",
    "    PyScf does Hartree-Fock\n",
    "    \"\"\"\n",
    "    system = construct_pyscf_system(molecule=\"he 0 0 0\",basis=\"cc-pvdz\")"
   ]
  },
  {
   "cell_type": "code",
   "execution_count": 12,
   "metadata": {},
   "outputs": [],
   "source": [
    "#Define laser pulse paramters\n",
    "omega = 2.8735643\n",
    "E = 100\n",
    "laser_duration = 5\n",
    "polarization = np.zeros(3)\n",
    "polarization[2] = 1\n",
    "\n",
    "system.set_time_evolution_operator(\n",
    "    LaserField(\n",
    "        LaserPulse(td=laser_duration, omega=omega, E=E),\n",
    "        polarization_vector=polarization,\n",
    "    )\n",
    ")"
   ]
  },
  {
   "cell_type": "code",
   "execution_count": 13,
   "metadata": {},
   "outputs": [
    {
     "name": "stdout",
     "output_type": "stream",
     "text": [
      "Iteration: 0\tResiduals (t): [0.0013943426631772861, 0.15596601948950631]\n",
      "Iteration: 1\tResiduals (t): [0.00081179035904044869, 0.044210483149450995]\n",
      "Iteration: 2\tResiduals (t): [0.00037415221354213546, 0.012807129518657196]\n",
      "Iteration: 3\tResiduals (t): [0.00015440812900357798, 0.0038028178801599814]\n",
      "Iteration: 4\tResiduals (t): [5.9732215735411472e-05, 0.0011559653174739446]\n",
      "Iteration: 5\tResiduals (t): [2.2148625211833638e-05, 0.00035844301185005442]\n",
      "Iteration: 6\tResiduals (t): [7.9723874428994822e-06, 0.000112879709702128]\n",
      "Iteration: 7\tResiduals (t): [2.8079670943906714e-06, 3.5950923453098128e-05]\n",
      "Iteration: 0\tResiduals (l): [0.0012308416586273201, 0.15063212261800898]\n",
      "Iteration: 1\tResiduals (l): [0.00077863443303706286, 0.042510351881064244]\n",
      "Iteration: 2\tResiduals (l): [0.00036855152987706009, 0.012316471754429095]\n",
      "Iteration: 3\tResiduals (l): [0.00015397566181965191, 0.0036650516275002504]\n",
      "Iteration: 4\tResiduals (l): [5.9954887314075347e-05, 0.0011175568213004079]\n",
      "Iteration: 5\tResiduals (l): [2.2314220750525353e-05, 0.00034771519216555903]\n",
      "Iteration: 6\tResiduals (l): [8.0499019334253494e-06, 0.00010986102908214866]\n",
      "Iteration: 7\tResiduals (l): [2.8391616118237421e-06, 3.5091958155977852e-05]\n",
      "Ground state CCSD energy: (-2.887594449813765+0j)\n"
     ]
    }
   ],
   "source": [
    "integrator = GaussIntegrator(s=3,np=np, eps=1e-10)\n",
    "cc_kwargs = dict(verbose=True)\n",
    "oatdccd = TDCCSD(system, integrator=integrator, np=np, **cc_kwargs)\n",
    "oatdccd.compute_ground_state()\n",
    "print(\n",
    "    \"Ground state CCSD energy: {0}\".format(oatdccd.compute_ground_state_energy())\n",
    ")\n",
    "oatdccd.set_initial_conditions()"
   ]
  },
  {
   "cell_type": "code",
   "execution_count": 14,
   "metadata": {},
   "outputs": [],
   "source": [
    "dt = 1e-2\n",
    "Tfinal = 0.87\n",
    "Nsteps = int(Tfinal / dt) + 1\n",
    "timestep_stop_laser = int(laser_duration / dt)"
   ]
  },
  {
   "cell_type": "code",
   "execution_count": 15,
   "metadata": {},
   "outputs": [],
   "source": [
    "#Initialize arrays to hold different \"observables\".\n",
    "time_points = np.linspace(0, Tfinal, Nsteps)\n",
    "td_energies = np.zeros(len(time_points))\n",
    "td_energies_imag = np.zeros(len(time_points))\n",
    "phase = np.zeros(len(time_points), dtype=np.complex128)\n",
    "norm_t1 = np.zeros(len(time_points))\n",
    "norm_l1 = np.zeros(len(time_points))\n",
    "norm_t2 = np.zeros(len(time_points))\n",
    "norm_l2 = np.zeros(len(time_points))\n",
    "dip_z = np.zeros(len(time_points))"
   ]
  },
  {
   "cell_type": "code",
   "execution_count": 16,
   "metadata": {},
   "outputs": [],
   "source": [
    "t, l = oatdccd.amplitudes\n",
    "\n",
    "#Set initial values\n",
    "energy = oatdccd.compute_energy()\n",
    "td_energies[0] = energy.real\n",
    "td_energies_imag[0] = energy.imag\n",
    "\n",
    "rho_qp = oatdccd.compute_one_body_density_matrix()\n",
    "rho_qp_hermitian = 0.5 * (rho_qp.conj().T + rho_qp)\n",
    "\n",
    "z = system.dipole_moment[2].copy()\n",
    "\n",
    "dip_z[0] = (np.einsum(\"qp,pq->\", rho_qp_hermitian, z)).real\n",
    "\n",
    "\"\"\"\n",
    "t[0][0] = tau_0\n",
    "t[1] = tau-singles\n",
    "t[2] = tau-doubles\n",
    "\n",
    "l[0] = lambda-singles\n",
    "l[1] = lambda-doubles\n",
    "\"\"\"\n",
    "\n",
    "phase[0] = t[0][0]\n",
    "norm_t1[0] = np.linalg.norm(t[1])\n",
    "norm_l1[0] = np.linalg.norm(l[0])\n",
    "norm_t2[0] = np.linalg.norm(t[2])\n",
    "norm_l2[0] = np.linalg.norm(l[1])"
   ]
  },
  {
   "cell_type": "code",
   "execution_count": 17,
   "metadata": {},
   "outputs": [
    {
     "name": "stderr",
     "output_type": "stream",
     "text": [
      "100%|██████████| 87/87 [00:08<00:00,  4.72it/s]\n"
     ]
    }
   ],
   "source": [
    "for i, amp in tqdm.tqdm(\n",
    "    enumerate(oatdccd.solve(time_points)), total=Nsteps - 1\n",
    "):\n",
    "    t, l = amp\n",
    "    energy = oatdccd.compute_energy()\n",
    "    td_energies[i + 1] = energy.real\n",
    "    td_energies_imag[i + 1] = energy.imag\n",
    "\n",
    "    rho_qp = oatdccd.compute_one_body_density_matrix()\n",
    "    rho_qp_hermitian = 0.5 * (rho_qp.conj().T + rho_qp)\n",
    "\n",
    "    z = system.dipole_moment[2].copy()\n",
    "\n",
    "    dip_z[i + 1] = (np.einsum(\"qp,pq->\", rho_qp_hermitian, z)).real\n",
    "\n",
    "    phase[i + 1] = t[0][0]\n",
    "    norm_t1[i + 1] = np.linalg.norm(t[1])\n",
    "    norm_l1[i + 1] = np.linalg.norm(l[0])\n",
    "    norm_t2[i + 1] = np.linalg.norm(t[2])\n",
    "    norm_l2[i + 1] = np.linalg.norm(l[1])"
   ]
  },
  {
   "cell_type": "code",
   "execution_count": 19,
   "metadata": {},
   "outputs": [
    {
     "data": {
      "image/png": "[encoded data removed]",
      "text/plain": [
       "<Figure size 432x288 with 1 Axes>"
      ]
     },
     "metadata": {},
     "output_type": "display_data"
    },
    {
     "data": {
      "image/png": "[encoded data removed]",
      "text/plain": [
       "<Figure size 432x288 with 1 Axes>"
      ]
     },
     "metadata": {},
     "output_type": "display_data"
    },
    {
     "data": {
      "image/png": "[encoded data removed]",
      "text/plain": [
       "<Figure size 432x288 with 1 Axes>"
      ]
     },
     "metadata": {},
     "output_type": "display_data"
    },
    {
     "data": {
      "image/png": "[encoded data removed]",
      "text/plain": [
       "<Figure size 432x288 with 1 Axes>"
      ]
     },
     "metadata": {},
     "output_type": "display_data"
    }
   ],
   "source": [
    "plt.figure()\n",
    "plt.plot(time_points, td_energies)\n",
    "plt.title(\"Time-dependent energy\")\n",
    "plt.grid()\n",
    "\n",
    "np.save('he_phase',np.abs(np.exp(phase)) ** 2)\n",
    "plt.figure()\n",
    "plt.plot(time_points, np.abs(np.exp(phase)) ** 2)\n",
    "plt.title(r\"Phase factor $|e^{\\tau_0(t)}|^2$\")\n",
    "plt.grid()\n",
    "\n",
    "np.save('he_dip_z',dip_z)\n",
    "plt.figure()\n",
    "plt.plot(time_points, dip_z)\n",
    "plt.title(r\"$\\langle z(t) \\rangle$\")\n",
    "plt.grid()\n",
    "\n",
    "np.save('he_norm_t2',norm_t2)\n",
    "plt.figure()\n",
    "plt.plot(time_points, np.abs(np.exp(phase)) ** 2,label=r'$|e^{\\tau_0(t)}|^2$')\n",
    "plt.plot(time_points, norm_t1,label=r'$||\\tau_1(t)||$')\n",
    "plt.plot(time_points, norm_t2,label=r'$||\\tau_2(t)||$')\n",
    "plt.legend(loc='best')\n",
    "plt.grid()\n",
    "\n",
    "\n",
    "plt.show()"
   ]
  },
  {
   "cell_type": "code",
   "execution_count": null,
   "metadata": {},
   "outputs": [],
   "source": [
    "from scipy.fftpack import fft, ifft, fftshift, fftfreq\n",
    "\n",
    "\"\"\"\n",
    "Fourier transform of dip_z after pulse.\n",
    "\"\"\"\n",
    "freq = fftshift(fftfreq(len(time_points[timestep_stop_laser:]))) * (\n",
    "    2 * np.pi / dt\n",
    ")\n",
    "a = np.abs(fftshift(fft(dip_z[timestep_stop_laser:])))\n",
    "amax = a.max()\n",
    "a = a / amax\n",
    "plt.figure()\n",
    "plt.plot(freq, a, label=r\"$\\vert \\tilde{d_z} \\vert$\")\n",
    "plt.title(r\"Fourier transform of $\\langle z(t)\\rangle$\")\n",
    "plt.legend()\n",
    "plt.xlim(0, 6)\n",
    "plt.xlabel(\"frequency/au\")\n",
    "plt.show()"
   ]
  },
  {
   "cell_type": "code",
   "execution_count": null,
   "metadata": {},
   "outputs": [],
   "source": []
  }
 ],
 "metadata": {
  "kernelspec": {
   "display_name": "Python 3",
   "language": "python",
   "name": "python3"
  },
  "language_info": {
   "codemirror_mode": {
    "name": "ipython",
    "version": 3
   },
   "file_extension": ".py",
   "mimetype": "text/x-python",
   "name": "python",
   "nbconvert_exporter": "python",
   "pygments_lexer": "ipython3",
   "version": "3.6.7"
  }
 },
 "nbformat": 4,
 "nbformat_minor": 2
}
