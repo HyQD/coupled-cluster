{
 "cells": [
  {
   "cell_type": "code",
   "execution_count": 1,
   "metadata": {},
   "outputs": [],
   "source": [
    "import numpy as np\n",
    "import matplotlib.pyplot as plt\n",
    "from matplotlib import cm\n",
    "from mpl_toolkits.mplot3d import Axes3D\n",
    "\n",
    "from quantum_systems import construct_psi4_system\n",
    "from quantum_systems.time_evolution_operators import LaserField\n",
    "from coupled_cluster.ccd import OATDCCD\n",
    "from coupled_cluster.integrators import GaussIntegrator"
   ]
  },
  {
   "cell_type": "code",
   "execution_count": 2,
   "metadata": {},
   "outputs": [],
   "source": [
    "class LaserPulse:\n",
    "    def __init__(self, t0=0, td=5, omega=0.1, E=0.03):\n",
    "        self.t0 = t0\n",
    "        self.td = td\n",
    "        self.omega = omega\n",
    "        self.E = E  # Field strength\n",
    "\n",
    "    def __call__(self, t):\n",
    "        T = self.td\n",
    "        delta_t = t - self.t0\n",
    "        return (\n",
    "            -(np.sin(np.pi * delta_t / T) ** 2)\n",
    "            * np.heaviside(delta_t, 1.0)\n",
    "            * np.heaviside(T - delta_t, 1.0)\n",
    "            * np.cos(self.omega * delta_t)\n",
    "            * self.E\n",
    "        )"
   ]
  },
  {
   "cell_type": "code",
   "execution_count": 3,
   "metadata": {},
   "outputs": [
    {
     "name": "stdout",
     "output_type": "stream",
     "text": [
      "HF converged to given precision in 14 iterations\n",
      "Ehf: -2.855160477242741\n"
     ]
    }
   ],
   "source": [
    "# Define system paramters\n",
    "He = \"\"\"\n",
    "He 0.0 0.0 0.0\n",
    "symmetry c1\n",
    "\"\"\"\n",
    "\n",
    "\n",
    "options = {\"basis\": \"cc-pvdz\", \"scf_type\": \"pk\", \"e_convergence\": 1e-8}\n",
    "omega = 2.873_564_3\n",
    "E = 100\n",
    "laser_duration = 5\n",
    "\n",
    "\n",
    "system = construct_psi4_system(He, options)\n",
    "system.change_to_hf_basis(tolerance=1e-15, verbose=True)"
   ]
  },
  {
   "cell_type": "code",
   "execution_count": 4,
   "metadata": {},
   "outputs": [
    {
     "name": "stdout",
     "output_type": "stream",
     "text": [
      "Iteration: 0\tResiduals (t): [0.1559471921921264]\n",
      "Iteration: 1\tResiduals (t): [0.031910206918114914]\n",
      "Iteration: 0\tResiduals (l): [0.15062129737537222]\n",
      "Iteration: 1\tResiduals (l): [0.030640545890612273]\n",
      "\n",
      "Iteration: 0\n",
      "\n",
      "Residual norms: rd = 0.002234053416009152\n",
      "Residual norms: ru = 0.0022344179296760634\n",
      "Iteration: 0\tResiduals (t): [0.0017705590129063068]\n",
      "Iteration: 1\tResiduals (t): [0.0004170176881713543]\n",
      "Iteration: 2\tResiduals (t): [1.1865829347935683e-05]\n",
      "Iteration: 0\tResiduals (l): [0.001778919684462058]\n",
      "Iteration: 1\tResiduals (l): [0.00042022929300810285]\n",
      "Iteration: 2\tResiduals (l): [1.0958620704702508e-05]\n",
      "\n",
      "Iteration: 1\n",
      "\n",
      "Residual norms: rd = 0.0001482203562363177\n",
      "Residual norms: ru = 0.00014795489061858295\n",
      "Iteration: 0\tResiduals (t): [1.575762205779805e-05]\n",
      "Iteration: 0\tResiduals (l): [1.5665032503233777e-05]\n",
      "Changing system basis...\n",
      "Ground state CCD energy: -2.8875947783360814\n"
     ]
    }
   ],
   "source": [
    "integrator = GaussIntegrator(np=np, eps=1e-10)\n",
    "cc_kwargs = dict(verbose=True)\n",
    "oatdccd = OATDCCD(system, integrator=integrator, np=np, **cc_kwargs)\n",
    "oatdccd.compute_ground_state()\n",
    "print(\n",
    "    \"Ground state CCD energy: {0}\".format(oatdccd.compute_ground_state_energy())\n",
    ")"
   ]
  },
  {
   "cell_type": "code",
   "execution_count": 5,
   "metadata": {},
   "outputs": [],
   "source": [
    "polarization = np.zeros(3)\n",
    "polarization[2] = 1\n",
    "system.set_time_evolution_operator(\n",
    "    LaserField(\n",
    "        LaserPulse(td=laser_duration, omega=omega, E=E),\n",
    "        polarization_vector=polarization,\n",
    "    )\n",
    ")"
   ]
  },
  {
   "cell_type": "code",
   "execution_count": 6,
   "metadata": {},
   "outputs": [],
   "source": [
    "oatdccd.set_initial_conditions()\n",
    "dt = 1e-2\n",
    "Tfinal = 10\n",
    "Nsteps = int(Tfinal / dt) + 1\n",
    "timestep_stop_laser = int(laser_duration / dt)"
   ]
  },
  {
   "cell_type": "code",
   "execution_count": 7,
   "metadata": {},
   "outputs": [
    {
     "name": "stdout",
     "output_type": "stream",
     "text": [
      "Nsteps: 1001\n",
      "step stop laser: 500\n",
      "dt = 0.01\n"
     ]
    }
   ],
   "source": [
    "time_points = np.linspace(0, Tfinal, Nsteps)\n",
    "print(\"Nsteps: %d\" % Nsteps)\n",
    "print(\"step stop laser: %d\" % timestep_stop_laser)\n",
    "print(\"dt = {0}\".format(dt))\n",
    "\n",
    "td_energies = np.zeros(len(time_points))\n",
    "td_energies_imag = np.zeros(len(time_points))\n",
    "norm_t2 = np.zeros(len(time_points))\n",
    "norm_l2 = np.zeros(len(time_points))\n",
    "dip_z = np.zeros(len(time_points))\n",
    "td_energies[0] = oatdccd.compute_energy()"
   ]
  },
  {
   "cell_type": "code",
   "execution_count": 8,
   "metadata": {},
   "outputs": [],
   "source": [
    "t, l, C, C_tilde = oatdccd.amplitudes\n",
    "\n",
    "energy = oatdccd.compute_energy()\n",
    "td_energies[0] = energy.real\n",
    "td_energies_imag[0] = energy.imag\n",
    "\n",
    "rho_qp = oatdccd.compute_one_body_density_matrix()\n",
    "rho_qp_hermitian = 0.5 * (rho_qp.conj().T + rho_qp)\n",
    "\n",
    "z = system.dipole_moment[2].copy()\n",
    "z = C_tilde @ z @ C\n",
    "\n",
    "dip_z[0] = (np.einsum(\"qp,pq->\", rho_qp_hermitian, z)).real\n",
    "\n",
    "norm_t2[0] = np.linalg.norm(t[1])\n",
    "norm_l2[0] = np.linalg.norm(l)"
   ]
  },
  {
   "cell_type": "code",
   "execution_count": 9,
   "metadata": {},
   "outputs": [
    {
     "name": "stdout",
     "output_type": "stream",
     "text": [
      "i = 0\n",
      "C_tilde C is identity: True\n",
      "rho_qp_hermitian is hermitian: True\n",
      "norm(t2): 0.170961\n",
      "norm(l2): 0.169721\n",
      "i = 100\n",
      "C_tilde C is identity: True\n",
      "rho_qp_hermitian is hermitian: True\n",
      "norm(t2): 0.170374\n",
      "norm(l2): 0.169147\n",
      "i = 200\n",
      "C_tilde C is identity: True\n",
      "rho_qp_hermitian is hermitian: True\n",
      "norm(t2): 0.35824\n",
      "norm(l2): 0.347103\n",
      "i = 300\n",
      "C_tilde C is identity: True\n",
      "rho_qp_hermitian is hermitian: True\n",
      "norm(t2): 0.652714\n",
      "norm(l2): 0.589887\n",
      "i = 400\n",
      "C_tilde C is identity: True\n",
      "rho_qp_hermitian is hermitian: True\n",
      "norm(t2): 0.859822\n",
      "norm(l2): 0.725719\n",
      "i = 500\n",
      "C_tilde C is identity: True\n",
      "rho_qp_hermitian is hermitian: True\n",
      "norm(t2): 1.0005\n",
      "norm(l2): 0.800255\n",
      "i = 600\n",
      "C_tilde C is identity: True\n",
      "rho_qp_hermitian is hermitian: True\n",
      "norm(t2): 1.01547\n",
      "norm(l2): 0.807354\n",
      "i = 700\n",
      "C_tilde C is identity: True\n",
      "rho_qp_hermitian is hermitian: True\n",
      "norm(t2): 0.935272\n",
      "norm(l2): 0.767454\n",
      "i = 800\n",
      "C_tilde C is identity: True\n",
      "rho_qp_hermitian is hermitian: True\n",
      "norm(t2): 1.01548\n",
      "norm(l2): 0.807352\n",
      "i = 900\n",
      "C_tilde C is identity: True\n",
      "rho_qp_hermitian is hermitian: True\n",
      "norm(t2): 1.05393\n",
      "norm(l2): 0.824862\n"
     ]
    }
   ],
   "source": [
    "for i, amp in enumerate(oatdccd.solve(time_points)):\n",
    "    t, l, C, C_tilde = amp\n",
    "    energy = oatdccd.compute_energy()\n",
    "    td_energies[i + 1] = energy.real\n",
    "    td_energies_imag[i + 1] = energy.imag\n",
    "\n",
    "    rho_qp = oatdccd.compute_one_body_density_matrix()\n",
    "    rho_qp_hermitian = 0.5 * (rho_qp.conj().T + rho_qp)\n",
    "\n",
    "    z = system.dipole_moment[2].copy()\n",
    "    z = C_tilde @ z @ C\n",
    "\n",
    "    dip_z[i + 1] = (np.einsum(\"qp,pq->\", rho_qp_hermitian, z)).real\n",
    "\n",
    "    norm_t2[i + 1] = np.linalg.norm(t[1])\n",
    "    norm_l2[i + 1] = np.linalg.norm(l)\n",
    "\n",
    "    if i % 100 == 0:\n",
    "        print(f\"i = {i}\")\n",
    "        eye = C_tilde @ C\n",
    "        print(\n",
    "            \"C_tilde C is identity: %s\" % np.allclose(eye, np.eye(eye.shape[0]))\n",
    "        )\n",
    "        print(\n",
    "            \"rho_qp_hermitian is hermitian: %s\"\n",
    "            % np.allclose(rho_qp_hermitian, rho_qp_hermitian.conj().T)\n",
    "        )\n",
    "        print(\"norm(t2): %g\" % np.linalg.norm(t[1]))\n",
    "        print(\"norm(l2): %g\" % np.linalg.norm(l))"
   ]
  },
  {
   "cell_type": "code",
   "execution_count": 10,
   "metadata": {},
   "outputs": [
    {
     "data": {
      "image/png": "[encoded data removed]",
      "text/plain": [
       "<Figure size 432x288 with 1 Axes>"
      ]
     },
     "metadata": {
      "needs_background": "light"
     },
     "output_type": "display_data"
    },
    {
     "data": {
      "image/png": "[encoded data removed]",
      "text/plain": [
       "<Figure size 432x288 with 1 Axes>"
      ]
     },
     "metadata": {
      "needs_background": "light"
     },
     "output_type": "display_data"
    },
    {
     "data": {
      "image/png": "[encoded data removed]",
      "text/plain": [
       "<Figure size 432x288 with 1 Axes>"
      ]
     },
     "metadata": {
      "needs_background": "light"
     },
     "output_type": "display_data"
    },
    {
     "data": {
      "image/png": "[encoded data removed]",
      "text/plain": [
       "<Figure size 432x288 with 1 Axes>"
      ]
     },
     "metadata": {
      "needs_background": "light"
     },
     "output_type": "display_data"
    }
   ],
   "source": [
    "plt.figure()\n",
    "plt.plot(time_points, td_energies)\n",
    "plt.title(\"Time-dependent energy\")\n",
    "plt.grid()\n",
    "\n",
    "plt.figure()\n",
    "plt.plot(time_points, dip_z)\n",
    "plt.title(r\"$\\langle z(t) \\rangle$\")\n",
    "plt.grid()\n",
    "\n",
    "plt.figure()\n",
    "plt.plot(time_points, norm_t2)\n",
    "plt.title(r\"Norm of $\\tau_2$-amplitudes\")\n",
    "plt.grid()\n",
    "\n",
    "plt.figure()\n",
    "plt.plot(time_points, norm_l2)\n",
    "plt.title(r\"Norm of $\\lambda_2$-amplitudes\")\n",
    "plt.grid()\n",
    "\n",
    "plt.show()"
   ]
  },
  {
   "cell_type": "markdown",
   "metadata": {},
   "source": [
    "Functions used to save data for testing.\n",
    "\n",
    "```python\n",
    "np.savetxt(\"oatdccd_helium_td_energies.dat\", td_energies)\n",
    "np.savetxt(\"oatdccd_helium_td_energies_imag.dat\", td_energies_imag)\n",
    "np.savetxt(\"oatdccd_helium_norm_t2.dat\", norm_t2)\n",
    "np.savetxt(\"oatdccd_helium_norm_l2.dat\", norm_l2)\n",
    "np.savetxt(\"oatdccd_helium_dip_z.dat\", dip_z)\n",
    "```"
   ]
  }
 ],
 "metadata": {
  "kernelspec": {
   "display_name": "Python 3",
   "language": "python",
   "name": "python3"
  },
  "language_info": {
   "codemirror_mode": {
    "name": "ipython",
    "version": 3
   },
   "file_extension": ".py",
   "mimetype": "text/x-python",
   "name": "python",
   "nbconvert_exporter": "python",
   "pygments_lexer": "ipython3",
   "version": "3.7.3"
  }
 },
 "nbformat": 4,
 "nbformat_minor": 2
}
