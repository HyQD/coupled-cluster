{
 "cells": [
  {
   "cell_type": "code",
   "execution_count": 11,
   "metadata": {},
   "outputs": [],
   "source": [
    "import numpy as np\n",
    "import matplotlib.pyplot as plt\n",
    "from matplotlib import cm\n",
    "from mpl_toolkits.mplot3d import Axes3D\n",
    "\n",
    "from tdhf import HartreeFock\n",
    "from quantum_systems import OneDimensionalHarmonicOscillator\n",
    "from coupled_cluster.ccd.oaccd import OACCD\n",
    "from coupled_cluster.mix import DIIS"
   ]
  },
  {
   "cell_type": "code",
   "execution_count": 12,
   "metadata": {},
   "outputs": [
    {
     "name": "stdout",
     "output_type": "stream",
     "text": [
      "HF converged to given precision in 21 iterations\n",
      "Ehf: (1.1795967206900784+0j)\n"
     ]
    }
   ],
   "source": [
    "n = 2\n",
    "l = 12\n",
    "\n",
    "radius = 10\n",
    "num_grid_points = 401\n",
    "omega = 0.25\n",
    "mass = 1\n",
    "\n",
    "odho = OneDimensionalHarmonicOscillator(n, l, radius, num_grid_points, omega=omega, mass=mass)\n",
    "odho.setup_system()\n",
    "\n",
    "hf = HartreeFock(odho, verbose=True)\n",
    "C = hf.scf(tolerance=1e-6)\n",
    "odho.change_basis(C)"
   ]
  },
  {
   "cell_type": "code",
   "execution_count": 13,
   "metadata": {},
   "outputs": [],
   "source": [
    "oaccd = OACCD(odho, mixer=DIIS, verbose=True)"
   ]
  },
  {
   "cell_type": "code",
   "execution_count": 14,
   "metadata": {},
   "outputs": [
    {
     "name": "stdout",
     "output_type": "stream",
     "text": [
      "Iteration: 0\tResiduals (t): [0.8411757109376549]\n",
      "Iteration: 1\tResiduals (t): [0.8170830860732975]\n",
      "Iteration: 2\tResiduals (t): [0.08883424772417092]\n",
      "Iteration: 0\tResiduals (l): [1.1284132174999777]\n",
      "Iteration: 1\tResiduals (l): [1.1567424439596656]\n",
      "Iteration: 2\tResiduals (l): [0.12118109996227087]\n",
      "Iteration: 3\tResiduals (l): [0.03093921429703865]\n",
      "\n",
      "Iteration: 0\n",
      "\n",
      "Residual norms: rd = 0.11332017583297198\n",
      "Residual norms: ru = 0.11451632479652847\n",
      "Iteration: 0\tResiduals (t): [0.11552452736006685]\n",
      "Iteration: 1\tResiduals (t): [0.045920982560901935]\n",
      "Iteration: 2\tResiduals (t): [0.01603919414450946]\n",
      "Iteration: 3\tResiduals (t): [0.007414469417982123]\n",
      "Iteration: 0\tResiduals (l): [0.08285528438975076]\n",
      "Iteration: 1\tResiduals (l): [0.03567929085637357]\n",
      "Iteration: 2\tResiduals (l): [0.009998010528135941]\n",
      "\n",
      "Iteration: 1\n",
      "\n",
      "Residual norms: rd = 0.0273164624310006\n",
      "Residual norms: ru = 0.027622311526559435\n",
      "Iteration: 0\tResiduals (t): [0.057510753497603824]\n",
      "Iteration: 1\tResiduals (t): [0.045667461123732746]\n",
      "Iteration: 2\tResiduals (t): [0.013274951936551786]\n",
      "Iteration: 3\tResiduals (t): [0.001703289697635706]\n",
      "Iteration: 0\tResiduals (l): [0.04356116306873198]\n",
      "Iteration: 1\tResiduals (l): [0.04046844871810371]\n",
      "Iteration: 2\tResiduals (l): [0.0076185653781873945]\n",
      "Iteration: 3\tResiduals (l): [0.0010620270181725254]\n",
      "\n",
      "Iteration: 2\n",
      "\n",
      "Residual norms: rd = 0.008672880678334464\n",
      "Residual norms: ru = 0.008427648448908477\n",
      "Iteration: 0\tResiduals (t): [0.011855741369028694]\n",
      "Iteration: 1\tResiduals (t): [0.005798509509954239]\n",
      "Iteration: 2\tResiduals (t): [0.002485628407316575]\n",
      "Iteration: 3\tResiduals (t): [0.0012051719988019737]\n",
      "Iteration: 4\tResiduals (t): [0.00025208994856178434]\n",
      "Iteration: 0\tResiduals (l): [0.007854789201017317]\n",
      "Iteration: 1\tResiduals (l): [0.004846900041253743]\n",
      "Iteration: 2\tResiduals (l): [0.002411790014562626]\n",
      "Iteration: 3\tResiduals (l): [0.0006212861632797206]\n",
      "\n",
      "Iteration: 3\n",
      "\n",
      "Residual norms: rd = 0.0004420729821059077\n",
      "Residual norms: ru = 0.0003442844612081923\n",
      "Iteration: 0\tResiduals (t): [0.0010667445098018996]\n",
      "Iteration: 1\tResiduals (t): [0.000794401076433664]\n",
      "Iteration: 2\tResiduals (t): [0.0002705694369401237]\n",
      "Iteration: 3\tResiduals (t): [8.988737030857952e-05]\n",
      "Iteration: 0\tResiduals (l): [0.0008979131434992207]\n",
      "Iteration: 1\tResiduals (l): [0.000499091174615573]\n",
      "Iteration: 2\tResiduals (l): [0.00032007359082524163]\n",
      "Iteration: 3\tResiduals (l): [3.9998672681982374e-05]\n",
      "\n",
      "Iteration: 4\n",
      "\n",
      "Residual norms: rd = 0.00027491971492938977\n",
      "Residual norms: ru = 0.000305043749145878\n",
      "Iteration: 0\tResiduals (t): [2.1693685122843312e-05]\n",
      "Iteration: 0\tResiduals (l): [2.0778523335225494e-05]\n",
      "\n",
      "Iteration: 5\n",
      "\n",
      "Residual norms: rd = 0.0002826563876633721\n",
      "Residual norms: ru = 0.0003129657311979066\n",
      "Iteration: 0\tResiduals (t): [0.00020294587436697474]\n",
      "Iteration: 1\tResiduals (t): [0.0002568274208193011]\n",
      "Iteration: 2\tResiduals (t): [0.00026238694292882793]\n",
      "Iteration: 3\tResiduals (t): [6.898172222212866e-05]\n",
      "Iteration: 0\tResiduals (l): [0.00014922523364613587]\n",
      "Iteration: 1\tResiduals (l): [0.00021829396888401294]\n",
      "Iteration: 2\tResiduals (l): [0.00018686342020618525]\n",
      "Iteration: 3\tResiduals (l): [5.322212863682792e-05]\n",
      "\n",
      "Iteration: 6\n",
      "\n",
      "Residual norms: rd = 0.00016789096110689456\n",
      "Residual norms: ru = 0.00019368708390176531\n",
      "Iteration: 0\tResiduals (t): [0.00030857326693938274]\n",
      "Iteration: 1\tResiduals (t): [0.0002217383946019826]\n",
      "Iteration: 2\tResiduals (t): [8.1974995440612e-05]\n",
      "Iteration: 0\tResiduals (l): [0.00020949701381501592]\n",
      "Iteration: 1\tResiduals (l): [0.0001291613776979027]\n",
      "Iteration: 2\tResiduals (l): [6.868332902476722e-05]\n"
     ]
    }
   ],
   "source": [
    "oaccd.compute_ground_state(tol=1e-4, termination_tol=1e-4)"
   ]
  },
  {
   "cell_type": "code",
   "execution_count": 15,
   "metadata": {},
   "outputs": [
    {
     "name": "stdout",
     "output_type": "stream",
     "text": [
      "Ground state energy: (0.8259052407700451+0j)\n"
     ]
    }
   ],
   "source": [
    "print(\"Ground state energy: {0}\".format(oaccd.compute_energy()))"
   ]
  }
 ],
 "metadata": {
  "kernelspec": {
   "display_name": "Python 3",
   "language": "python",
   "name": "python3"
  },
  "language_info": {
   "codemirror_mode": {
    "name": "ipython",
    "version": 3
   },
   "file_extension": ".py",
   "mimetype": "text/x-python",
   "name": "python",
   "nbconvert_exporter": "python",
   "pygments_lexer": "ipython3",
   "version": "3.7.2"
  }
 },
 "nbformat": 4,
 "nbformat_minor": 2
}
