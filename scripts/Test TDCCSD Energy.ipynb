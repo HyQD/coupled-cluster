{
 "cells": [
  {
   "cell_type": "code",
   "execution_count": 1,
   "metadata": {},
   "outputs": [],
   "source": [
    "import numpy as np\n",
    "from matplotlib import pyplot as plt"
   ]
  },
  {
   "cell_type": "code",
   "execution_count": 2,
   "metadata": {},
   "outputs": [],
   "source": [
    "from quantum_systems import TwoDimensionalHarmonicOscillator\n",
    "from quantum_systems.time_evolution_operators import LaserField"
   ]
  },
  {
   "cell_type": "code",
   "execution_count": 5,
   "metadata": {},
   "outputs": [],
   "source": [
    "from coupled_cluster.ccsd import TDCCSD\n",
    "from coupled_cluster.integrators import GaussIntegrator"
   ]
  },
  {
   "cell_type": "code",
   "execution_count": 6,
   "metadata": {},
   "outputs": [],
   "source": [
    "class LaserPulse:\n",
    "    \n",
    "    def __init__(self, t_0=0, t_final=10, omega=8, strength=0.03):\n",
    "        self.t_0 = t_0\n",
    "        self.t_final = t_final\n",
    "        self.omega = omega\n",
    "        self.strength = strength\n",
    "        \n",
    "    def __call__(self, t):\n",
    "        return self.strength * np.sin(self.omega * t)"
   ]
  },
  {
   "cell_type": "code",
   "execution_count": 9,
   "metadata": {},
   "outputs": [
    {
     "name": "stdout",
     "output_type": "stream",
     "text": [
      "HF converged to given precision in 7 iterations\n",
      "Ehf: (0.7691492054660882+0j)\n"
     ]
    }
   ],
   "source": [
    "# Parameter\n",
    "n = 2\n",
    "l = 20\n",
    "\n",
    "radius = 8\n",
    "num_grid_points = 401\n",
    "omega = 1 / 6\n",
    "mass = 1\n",
    "\n",
    "tdho = TwoDimensionalHarmonicOscillator(n, l, radius, num_grid_points, omega, mass)\n",
    "tdho.setup_system()\n",
    "tdho.change_to_hf_basis(verbose=True, tolerance=1e-8)"
   ]
  },
  {
   "cell_type": "code",
   "execution_count": 10,
   "metadata": {},
   "outputs": [],
   "source": [
    "polarization_vector = np.zeros(2)\n",
    "polarization_vector[0] = 1\n",
    "\n",
    "laser = LaserField(\n",
    "    LaserPulse(omega=8*omega, strength=0.5),\n",
    "    polarization_vector=polarization_vector\n",
    ")\n",
    "\n",
    "tdho.set_time_evolution_operator(laser)"
   ]
  },
  {
   "cell_type": "code",
   "execution_count": 13,
   "metadata": {},
   "outputs": [
    {
     "ename": "TypeError",
     "evalue": "Can't instantiate abstract class TDCCSD with abstract methods compute_one_body_density_matrix, compute_time_dependent_overlap, compute_two_body_density_matrix",
     "output_type": "error",
     "traceback": [
      "\u001b[0;31m---------------------------------------------------------------------------\u001b[0m",
      "\u001b[0;31mTypeError\u001b[0m                                 Traceback (most recent call last)",
      "\u001b[0;32m<ipython-input-13-2ecd44ff4cdd>\u001b[0m in \u001b[0;36m<module>\u001b[0;34m\u001b[0m\n\u001b[1;32m      1\u001b[0m \u001b[0mintegrator\u001b[0m \u001b[0;34m=\u001b[0m \u001b[0mGaussIntegrator\u001b[0m\u001b[0;34m(\u001b[0m\u001b[0mnp\u001b[0m\u001b[0;34m=\u001b[0m\u001b[0mnp\u001b[0m\u001b[0;34m,\u001b[0m \u001b[0meps\u001b[0m\u001b[0;34m=\u001b[0m\u001b[0;36m1e-10\u001b[0m\u001b[0;34m)\u001b[0m\u001b[0;34m\u001b[0m\u001b[0;34m\u001b[0m\u001b[0m\n\u001b[0;32m----> 2\u001b[0;31m \u001b[0mtdccsd\u001b[0m \u001b[0;34m=\u001b[0m \u001b[0mTDCCSD\u001b[0m\u001b[0;34m(\u001b[0m\u001b[0mtdho\u001b[0m\u001b[0;34m,\u001b[0m \u001b[0mnp\u001b[0m\u001b[0;34m=\u001b[0m\u001b[0mnp\u001b[0m\u001b[0;34m,\u001b[0m \u001b[0mintegrator\u001b[0m\u001b[0;34m=\u001b[0m\u001b[0mintegrator\u001b[0m\u001b[0;34m,\u001b[0m \u001b[0mverbose\u001b[0m\u001b[0;34m=\u001b[0m\u001b[0;32mTrue\u001b[0m\u001b[0;34m)\u001b[0m\u001b[0;34m\u001b[0m\u001b[0;34m\u001b[0m\u001b[0m\n\u001b[0m\u001b[1;32m      3\u001b[0m \u001b[0;34m\u001b[0m\u001b[0m\n\u001b[1;32m      4\u001b[0m \u001b[0mtdccsd\u001b[0m\u001b[0;34m.\u001b[0m\u001b[0mcompute_ground_state\u001b[0m\u001b[0;34m(\u001b[0m\u001b[0;34m)\u001b[0m\u001b[0;34m\u001b[0m\u001b[0;34m\u001b[0m\u001b[0m\n\u001b[1;32m      5\u001b[0m \u001b[0mprint\u001b[0m\u001b[0;34m(\u001b[0m\u001b[0;34mf\"Ground state energy: {tdccsd.compute_ground_state_energy()}\"\u001b[0m\u001b[0;34m)\u001b[0m\u001b[0;34m\u001b[0m\u001b[0;34m\u001b[0m\u001b[0m\n",
      "\u001b[0;31mTypeError\u001b[0m: Can't instantiate abstract class TDCCSD with abstract methods compute_one_body_density_matrix, compute_time_dependent_overlap, compute_two_body_density_matrix"
     ]
    }
   ],
   "source": [
    "integrator = GaussIntegrator(np=np, eps=1e-10)\n",
    "tdccsd = TDCCSD(tdho, np=np, integrator=integrator, verbose=True)\n",
    "\n",
    "tdccsd.compute_ground_state()\n",
    "print(f\"Ground state energy: {tdccsd.compute_ground_state_energy()}\")"
   ]
  }
 ],
 "metadata": {
  "kernelspec": {
   "display_name": "Python 3",
   "language": "python",
   "name": "python3"
  },
  "language_info": {
   "codemirror_mode": {
    "name": "ipython",
    "version": 3
   },
   "file_extension": ".py",
   "mimetype": "text/x-python",
   "name": "python",
   "nbconvert_exporter": "python",
   "pygments_lexer": "ipython3",
   "version": "3.7.2"
  }
 },
 "nbformat": 4,
 "nbformat_minor": 2
}
