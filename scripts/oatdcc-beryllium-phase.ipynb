{
 "cells": [
  {
   "cell_type": "code",
   "execution_count": 1,
   "metadata": {},
   "outputs": [],
   "source": [
    "import numpy as np\n",
    "import matplotlib.pyplot as plt\n",
    "import tqdm\n",
    "\n",
    "from quantum_systems import construct_psi4_system\n",
    "from quantum_systems.time_evolution_operators import LaserField\n",
    "from coupled_cluster.ccd import OATDCCD\n",
    "from coupled_cluster.integrators import GaussIntegrator"
   ]
  },
  {
   "cell_type": "code",
   "execution_count": 2,
   "metadata": {},
   "outputs": [],
   "source": [
    "class LaserPulse:\n",
    "    def __init__(self, t0=0, td=5, omega=0.1, E=0.03):\n",
    "        self.t0 = t0\n",
    "        self.td = td\n",
    "        self.omega = omega\n",
    "        self.E = E  # Field strength\n",
    "\n",
    "    def __call__(self, t):\n",
    "        \n",
    "        T = self.td\n",
    "        delta_t = t - self.t0\n",
    "        return (\n",
    "            -(np.sin(np.pi * delta_t / T) ** 2)\n",
    "            * np.heaviside(delta_t, 1.0)\n",
    "            * np.heaviside(T - delta_t, 1.0)\n",
    "            * np.cos(self.omega * delta_t)\n",
    "            * self.E\n",
    "        )"
   ]
  },
  {
   "cell_type": "code",
   "execution_count": 3,
   "metadata": {},
   "outputs": [
    {
     "name": "stdout",
     "output_type": "stream",
     "text": [
      "HF converged to given precision in 17 iterations\n",
      "Ehf: -14.57233763096077\n"
     ]
    }
   ],
   "source": [
    "# Define system paramters\n",
    "Be = \"\"\"\n",
    "Be 0.0 0.0 0.0\n",
    "symmetry c1\n",
    "\"\"\"\n",
    "\n",
    "options = {\"basis\": \"cc-pvdz\", \"scf_type\": \"pk\", \"e_convergence\": 1e-8}\n",
    "omega = 0.206_817_5\n",
    "E = 1\n",
    "laser_duration = 5\n",
    "\n",
    "\n",
    "system = construct_psi4_system(Be, options)\n",
    "system.change_to_hf_basis(tolerance=1e-10, verbose=True)"
   ]
  },
  {
   "cell_type": "code",
   "execution_count": 4,
   "metadata": {},
   "outputs": [
    {
     "name": "stdout",
     "output_type": "stream",
     "text": [
      "Iteration: 0\tResiduals (t): [0.12606166698511045]\n",
      "Iteration: 1\tResiduals (t): [0.070477808345112525]\n",
      "Iteration: 0\tResiduals (l): [0.10936601259338948]\n",
      "Iteration: 1\tResiduals (l): [0.060963345615374594]\n",
      "\n",
      "Iteration: 0\n",
      "\n",
      "Residual norms: rd = 0.013797241082625724\n",
      "Residual norms: ru = 0.01366828722147434\n",
      "Iteration: 0\tResiduals (t): [0.019809052062230149]\n",
      "Iteration: 1\tResiduals (t): [0.010341116992445597]\n",
      "Iteration: 2\tResiduals (t): [0.0013325862509310398]\n",
      "Iteration: 0\tResiduals (l): [0.015022657754752974]\n",
      "Iteration: 1\tResiduals (l): [0.0072300765300047226]\n",
      "Iteration: 2\tResiduals (l): [0.0014545807290110792]\n",
      "Iteration: 3\tResiduals (l): [0.00024458194530661853]\n",
      "\n",
      "Iteration: 1\n",
      "\n",
      "Residual norms: rd = 0.003970550959646233\n",
      "Residual norms: ru = 0.004055502438751404\n",
      "Iteration: 0\tResiduals (t): [0.0024941405941026288]\n",
      "Iteration: 1\tResiduals (t): [0.0008807796940829357]\n",
      "Iteration: 2\tResiduals (t): [0.00021224231557490387]\n",
      "Iteration: 0\tResiduals (l): [0.0022065726711702695]\n",
      "Iteration: 1\tResiduals (l): [0.00076459726093311073]\n",
      "Iteration: 2\tResiduals (l): [0.00017526300535447356]\n",
      "Changing system basis...\n",
      "Ground state CCD energy: -14.617364529003693\n"
     ]
    }
   ],
   "source": [
    "integrator = GaussIntegrator(np=np,s=2,eps=1e-6)\n",
    "cc_kwargs = dict(verbose=True)\n",
    "oatdccd = OATDCCD(system, integrator=integrator, np=np, **cc_kwargs)\n",
    "oatdccd.compute_ground_state()\n",
    "print(\n",
    "    \"Ground state CCD energy: {0}\".format(oatdccd.compute_ground_state_energy())\n",
    ")"
   ]
  },
  {
   "cell_type": "code",
   "execution_count": 5,
   "metadata": {},
   "outputs": [],
   "source": [
    "polarization = np.zeros(3)\n",
    "polarization[2] = 1\n",
    "system.set_time_evolution_operator(\n",
    "    LaserField(\n",
    "        LaserPulse(td=laser_duration, omega=omega, E=E),\n",
    "        polarization_vector=polarization,\n",
    "    )\n",
    ")"
   ]
  },
  {
   "cell_type": "code",
   "execution_count": 6,
   "metadata": {},
   "outputs": [],
   "source": [
    "oatdccd.set_initial_conditions()\n",
    "dt = 1e-2\n",
    "Tfinal = 20\n",
    "Nsteps = int(Tfinal / dt) + 1\n",
    "timestep_stop_laser = int(laser_duration / dt)"
   ]
  },
  {
   "cell_type": "code",
   "execution_count": 7,
   "metadata": {},
   "outputs": [
    {
     "name": "stdout",
     "output_type": "stream",
     "text": [
      "Nsteps: 2001\n",
      "step stop laser: 500\n",
      "dt = 0.01\n"
     ]
    }
   ],
   "source": [
    "time_points = np.linspace(0, Tfinal, Nsteps)\n",
    "print(\"Nsteps: %d\" % Nsteps)\n",
    "print(\"step stop laser: %d\" % timestep_stop_laser)\n",
    "print(\"dt = {0}\".format(dt))\n",
    "\n",
    "td_energies = np.zeros(len(time_points))\n",
    "td_energies_imag = np.zeros(len(time_points))\n",
    "phase = np.zeros(len(time_points), dtype=np.complex128)\n",
    "C0 = np.zeros(len(time_points), dtype=np.complex128)\n",
    "norm_t2 = np.zeros(len(time_points))\n",
    "norm_l2 = np.zeros(len(time_points))\n",
    "dip_z = np.zeros(len(time_points))\n",
    "td_energies[0] = oatdccd.compute_energy()"
   ]
  },
  {
   "cell_type": "code",
   "execution_count": 8,
   "metadata": {},
   "outputs": [
    {
     "name": "stdout",
     "output_type": "stream",
     "text": [
      "1.0\n",
      "0.908140191621\n"
     ]
    }
   ],
   "source": [
    "t, l, C, C_tilde = oatdccd.amplitudes\n",
    "\n",
    "energy = oatdccd.compute_energy()\n",
    "td_energies[0] = energy.real\n",
    "td_energies_imag[0] = energy.imag\n",
    "\n",
    "rho_qp = oatdccd.compute_one_body_density_matrix()\n",
    "rho_qp_hermitian = 0.5 * (rho_qp.conj().T + rho_qp)\n",
    "\n",
    "z = system.dipole_moment[2].copy()\n",
    "z = C_tilde @ z @ C\n",
    "\n",
    "dip_z[0] = (np.einsum(\"qp,pq->\", rho_qp_hermitian, z)).real\n",
    "\n",
    "phase[0] = t[0][0]\n",
    "norm_t2[0] = np.linalg.norm(t[1])\n",
    "norm_l2[0] = np.linalg.norm(l)\n",
    "\n",
    "i_inds = []\n",
    "j_inds = []\n",
    "a_inds = []\n",
    "b_inds = []\n",
    "for i in range(0,system.n):\n",
    "    for j in range(i+1,system.n):\n",
    "        for a in range(0,system.m):\n",
    "            for b in range(a+1,system.m):\n",
    "                i_inds.append(i)\n",
    "                j_inds.append(j)\n",
    "                a_inds.append(a)\n",
    "                b_inds.append(b)\n",
    "\n",
    "exp_tau0 = np.exp(t[0][0])\n",
    "print(exp_tau0)\n",
    "ci_vec     = np.concatenate(([1], t[1][a_inds,b_inds,i_inds,j_inds]))\n",
    "ci_vec    *= exp_tau0\n",
    "N = np.vdot(ci_vec,ci_vec)\n",
    "ci_vec = ci_vec/np.sqrt(N)\n",
    "print(np.abs(ci_vec[0])**2)\n",
    "C0[0] = ci_vec[0]"
   ]
  },
  {
   "cell_type": "code",
   "execution_count": 9,
   "metadata": {},
   "outputs": [
    {
     "name": "stderr",
     "output_type": "stream",
     "text": [
      "100%|██████████| 2000/2000 [08:00<00:00,  5.06it/s]\n"
     ]
    }
   ],
   "source": [
    "for i, amp in tqdm.tqdm(\n",
    "    enumerate(oatdccd.solve(time_points)), total=Nsteps - 1\n",
    "):\n",
    "    t, l, C, C_tilde = amp\n",
    "    energy = oatdccd.compute_energy()\n",
    "    td_energies[i + 1] = energy.real\n",
    "    td_energies_imag[i + 1] = energy.imag\n",
    "\n",
    "    rho_qp = oatdccd.compute_one_body_density_matrix()\n",
    "    rho_qp_hermitian = 0.5 * (rho_qp.conj().T + rho_qp)\n",
    "\n",
    "    z = system.dipole_moment[2].copy()\n",
    "    z = C_tilde @ z @ C\n",
    "\n",
    "    dip_z[i + 1] = (np.einsum(\"qp,pq->\", rho_qp_hermitian, z)).real\n",
    "\n",
    "    phase[i + 1] = t[0][0]\n",
    "    norm_t2[i + 1] = np.linalg.norm(t[1])\n",
    "    norm_l2[i + 1] = np.linalg.norm(l)\n",
    "    \n",
    "    exp_tau0 = np.exp(t[0][0])\n",
    "    ci_vec     = ci_vec     = np.concatenate(([1], t[1][a_inds,b_inds,i_inds,j_inds]))\n",
    "    ci_vec    *= exp_tau0\n",
    "    N = np.vdot(ci_vec,ci_vec)\n",
    "    ci_vec = ci_vec/np.sqrt(N)\n",
    "    C0[i+1] = ci_vec[0]\n",
    "    \n",
    "    \"\"\"\n",
    "    if i % 100 == 0:\n",
    "        print(f\"i = {i}\")\n",
    "        eye = C_tilde @ C\n",
    "        print(\n",
    "            \"C_tilde C is identity: %s\" % np.allclose(eye, np.eye(eye.shape[0]))\n",
    "        )\n",
    "        print(\n",
    "            \"rho_qp_hermitian is hermitian: %s\"\n",
    "            % np.allclose(rho_qp_hermitian, rho_qp_hermitian.conj().T)\n",
    "        )\n",
    "        print(\"norm(t2): %g\" % np.linalg.norm(t[1]))\n",
    "        print(\"norm(l2): %g\" % np.linalg.norm(l))\n",
    "    \"\"\""
   ]
  },
  {
   "cell_type": "code",
   "execution_count": 10,
   "metadata": {},
   "outputs": [
    {
     "data": {
      "image/png": "[encoded data removed]",
      "text/plain": [
       "<Figure size 432x288 with 1 Axes>"
      ]
     },
     "metadata": {},
     "output_type": "display_data"
    },
    {
     "data": {
      "image/png": "[encoded data removed]",
      "text/plain": [
       "<Figure size 432x288 with 1 Axes>"
      ]
     },
     "metadata": {},
     "output_type": "display_data"
    },
    {
     "data": {
      "image/png": "[encoded data removed]",
      "text/plain": [
       "<Figure size 432x288 with 1 Axes>"
      ]
     },
     "metadata": {},
     "output_type": "display_data"
    },
    {
     "data": {
      "image/png": "[encoded data removed]",
      "text/plain": [
       "<Figure size 432x288 with 1 Axes>"
      ]
     },
     "metadata": {},
     "output_type": "display_data"
    }
   ],
   "source": [
    "plt.figure()\n",
    "plt.plot(time_points, td_energies)\n",
    "plt.title(\"Time-dependent energy\")\n",
    "plt.grid()\n",
    "\n",
    "\"\"\"\n",
    "plt.figure()\n",
    "plt.plot(time_points, dip_z)\n",
    "plt.title(r\"$\\langle z(t) \\rangle$\")\n",
    "plt.grid()\n",
    "\"\"\"\n",
    "\n",
    "plt.figure()\n",
    "plt.plot(time_points, np.abs(np.exp(phase)) ** 2,label=r'$|e^{\\tau_0(t)}|^2$')\n",
    "plt.grid()\n",
    "plt.legend()\n",
    "plt.savefig('oatdccd.png')\n",
    "np.save('be_phase_new', phase)\n",
    "\n",
    "plt.figure()\n",
    "plt.plot(time_points, np.abs(C0) ** 2,label=r'$|C_0(t)|^2$')\n",
    "plt.grid()\n",
    "plt.legend()\n",
    "plt.savefig('c0_normed.png')\n",
    "np.save('c0.normed', C0)\n",
    "\n",
    "plt.figure()\n",
    "plt.plot(time_points,norm_t2)\n",
    "\n",
    "plt.show()"
   ]
  },
  {
   "cell_type": "code",
   "execution_count": null,
   "metadata": {},
   "outputs": [],
   "source": []
  }
 ],
 "metadata": {
  "kernelspec": {
   "display_name": "Python 3",
   "language": "python",
   "name": "python3"
  },
  "language_info": {
   "codemirror_mode": {
    "name": "ipython",
    "version": 3
   },
   "file_extension": ".py",
   "mimetype": "text/x-python",
   "name": "python",
   "nbconvert_exporter": "python",
   "pygments_lexer": "ipython3",
   "version": "3.6.7"
  }
 },
 "nbformat": 4,
 "nbformat_minor": 2
}
